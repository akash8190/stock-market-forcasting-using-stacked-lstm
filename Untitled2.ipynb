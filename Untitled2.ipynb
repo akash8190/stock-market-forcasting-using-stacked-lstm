{
  "nbformat": 4,
  "nbformat_minor": 0,
  "metadata": {
    "colab": {
      "name": "Untitled2.ipynb",
      "provenance": [],
      "authorship_tag": "ABX9TyNFiQFbBbR30Wfm8Jd7FeXI",
      "include_colab_link": true
    },
    "kernelspec": {
      "name": "python3",
      "display_name": "Python 3"
    },
    "accelerator": "GPU"
  },
  "cells": [
    {
      "cell_type": "markdown",
      "metadata": {
        "id": "view-in-github",
        "colab_type": "text"
      },
      "source": [
        "<a href=\"https://colab.research.google.com/github/akash8190/stock-market-forcasting-using-stacked-lstm/blob/master/Untitled2.ipynb\" target=\"_parent\"><img src=\"https://colab.research.google.com/assets/colab-badge.svg\" alt=\"Open In Colab\"/></a>"
      ]
    },
    {
      "cell_type": "markdown",
      "metadata": {
        "id": "YoiRRBMvpIRR",
        "colab_type": "text"
      },
      "source": [
        "stock price prediction using stacked lstm"
      ]
    },
    {
      "cell_type": "code",
      "metadata": {
        "id": "Kd-Itm3tpTs6",
        "colab_type": "code",
        "colab": {
          "base_uri": "https://localhost:8080/",
          "height": 71
        },
        "outputId": "f79904fb-9fab-43a4-da0b-8dd6733482a1"
      },
      "source": [
        "### Data Collection\n",
        "import pandas_datareader as pdr\n",
        "key=\"f312e8958423b1b43ce265d7fbfb6acf947e2dee\"\n"
      ],
      "execution_count": 3,
      "outputs": [
        {
          "output_type": "stream",
          "text": [
            "/usr/local/lib/python3.6/dist-packages/pandas_datareader/compat/__init__.py:7: FutureWarning: pandas.util.testing is deprecated. Use the functions in the public API at pandas.testing instead.\n",
            "  from pandas.util.testing import assert_frame_equal\n"
          ],
          "name": "stderr"
        }
      ]
    },
    {
      "cell_type": "code",
      "metadata": {
        "id": "ZmDpvsASpg2S",
        "colab_type": "code",
        "colab": {}
      },
      "source": [
        "df = pdr.get_data_tiingo('AAPL', api_key=key)"
      ],
      "execution_count": 4,
      "outputs": []
    },
    {
      "cell_type": "code",
      "metadata": {
        "id": "kq2nUPNGprZw",
        "colab_type": "code",
        "colab": {}
      },
      "source": [
        "df.to_csv('AAPL.csv')"
      ],
      "execution_count": 5,
      "outputs": []
    },
    {
      "cell_type": "code",
      "metadata": {
        "id": "zZZm37fRpxAT",
        "colab_type": "code",
        "colab": {}
      },
      "source": [
        "import pandas as pd"
      ],
      "execution_count": 6,
      "outputs": []
    },
    {
      "cell_type": "code",
      "metadata": {
        "id": "XlNfpRxyp1N8",
        "colab_type": "code",
        "colab": {}
      },
      "source": [
        "df=pd.read_csv('AAPL.csv')"
      ],
      "execution_count": 7,
      "outputs": []
    },
    {
      "cell_type": "code",
      "metadata": {
        "id": "lqYLU2kTp7Cp",
        "colab_type": "code",
        "colab": {
          "base_uri": "https://localhost:8080/",
          "height": 204
        },
        "outputId": "72822b5a-1343-4fbf-b5a8-f884369b9239"
      },
      "source": [
        "df.head()"
      ],
      "execution_count": 8,
      "outputs": [
        {
          "output_type": "execute_result",
          "data": {
            "text/html": [
              "<div>\n",
              "<style scoped>\n",
              "    .dataframe tbody tr th:only-of-type {\n",
              "        vertical-align: middle;\n",
              "    }\n",
              "\n",
              "    .dataframe tbody tr th {\n",
              "        vertical-align: top;\n",
              "    }\n",
              "\n",
              "    .dataframe thead th {\n",
              "        text-align: right;\n",
              "    }\n",
              "</style>\n",
              "<table border=\"1\" class=\"dataframe\">\n",
              "  <thead>\n",
              "    <tr style=\"text-align: right;\">\n",
              "      <th></th>\n",
              "      <th>symbol</th>\n",
              "      <th>date</th>\n",
              "      <th>close</th>\n",
              "      <th>high</th>\n",
              "      <th>low</th>\n",
              "      <th>open</th>\n",
              "      <th>volume</th>\n",
              "      <th>adjClose</th>\n",
              "      <th>adjHigh</th>\n",
              "      <th>adjLow</th>\n",
              "      <th>adjOpen</th>\n",
              "      <th>adjVolume</th>\n",
              "      <th>divCash</th>\n",
              "      <th>splitFactor</th>\n",
              "    </tr>\n",
              "  </thead>\n",
              "  <tbody>\n",
              "    <tr>\n",
              "      <th>0</th>\n",
              "      <td>AAPL</td>\n",
              "      <td>2015-08-03 00:00:00+00:00</td>\n",
              "      <td>118.44</td>\n",
              "      <td>122.57</td>\n",
              "      <td>117.520</td>\n",
              "      <td>121.50</td>\n",
              "      <td>69975968</td>\n",
              "      <td>109.145232</td>\n",
              "      <td>112.951123</td>\n",
              "      <td>108.297430</td>\n",
              "      <td>111.965093</td>\n",
              "      <td>69975968</td>\n",
              "      <td>0.00</td>\n",
              "      <td>1.0</td>\n",
              "    </tr>\n",
              "    <tr>\n",
              "      <th>1</th>\n",
              "      <td>AAPL</td>\n",
              "      <td>2015-08-04 00:00:00+00:00</td>\n",
              "      <td>114.64</td>\n",
              "      <td>117.70</td>\n",
              "      <td>113.250</td>\n",
              "      <td>117.42</td>\n",
              "      <td>124138623</td>\n",
              "      <td>105.643443</td>\n",
              "      <td>108.463304</td>\n",
              "      <td>104.362525</td>\n",
              "      <td>108.205278</td>\n",
              "      <td>124138623</td>\n",
              "      <td>0.00</td>\n",
              "      <td>1.0</td>\n",
              "    </tr>\n",
              "    <tr>\n",
              "      <th>2</th>\n",
              "      <td>AAPL</td>\n",
              "      <td>2015-08-05 00:00:00+00:00</td>\n",
              "      <td>115.40</td>\n",
              "      <td>117.44</td>\n",
              "      <td>112.100</td>\n",
              "      <td>112.95</td>\n",
              "      <td>98384461</td>\n",
              "      <td>106.343801</td>\n",
              "      <td>108.223708</td>\n",
              "      <td>103.302773</td>\n",
              "      <td>104.086068</td>\n",
              "      <td>98384461</td>\n",
              "      <td>0.00</td>\n",
              "      <td>1.0</td>\n",
              "    </tr>\n",
              "    <tr>\n",
              "      <th>3</th>\n",
              "      <td>AAPL</td>\n",
              "      <td>2015-08-06 00:00:00+00:00</td>\n",
              "      <td>115.13</td>\n",
              "      <td>116.50</td>\n",
              "      <td>114.115</td>\n",
              "      <td>115.97</td>\n",
              "      <td>52903040</td>\n",
              "      <td>106.574181</td>\n",
              "      <td>107.842371</td>\n",
              "      <td>105.634610</td>\n",
              "      <td>107.351757</td>\n",
              "      <td>52903040</td>\n",
              "      <td>0.52</td>\n",
              "      <td>1.0</td>\n",
              "    </tr>\n",
              "    <tr>\n",
              "      <th>4</th>\n",
              "      <td>AAPL</td>\n",
              "      <td>2015-08-07 00:00:00+00:00</td>\n",
              "      <td>115.52</td>\n",
              "      <td>116.25</td>\n",
              "      <td>114.500</td>\n",
              "      <td>114.58</td>\n",
              "      <td>38670405</td>\n",
              "      <td>106.935199</td>\n",
              "      <td>107.610949</td>\n",
              "      <td>105.990999</td>\n",
              "      <td>106.065054</td>\n",
              "      <td>38670405</td>\n",
              "      <td>0.00</td>\n",
              "      <td>1.0</td>\n",
              "    </tr>\n",
              "  </tbody>\n",
              "</table>\n",
              "</div>"
            ],
            "text/plain": [
              "  symbol                       date   close  ...  adjVolume  divCash  splitFactor\n",
              "0   AAPL  2015-08-03 00:00:00+00:00  118.44  ...   69975968     0.00          1.0\n",
              "1   AAPL  2015-08-04 00:00:00+00:00  114.64  ...  124138623     0.00          1.0\n",
              "2   AAPL  2015-08-05 00:00:00+00:00  115.40  ...   98384461     0.00          1.0\n",
              "3   AAPL  2015-08-06 00:00:00+00:00  115.13  ...   52903040     0.52          1.0\n",
              "4   AAPL  2015-08-07 00:00:00+00:00  115.52  ...   38670405     0.00          1.0\n",
              "\n",
              "[5 rows x 14 columns]"
            ]
          },
          "metadata": {
            "tags": []
          },
          "execution_count": 8
        }
      ]
    },
    {
      "cell_type": "code",
      "metadata": {
        "id": "d6GtkWhrp_Tv",
        "colab_type": "code",
        "colab": {
          "base_uri": "https://localhost:8080/",
          "height": 204
        },
        "outputId": "591149a0-ea6d-40d2-a701-3874d069efb1"
      },
      "source": [
        "df.tail()"
      ],
      "execution_count": 9,
      "outputs": [
        {
          "output_type": "execute_result",
          "data": {
            "text/html": [
              "<div>\n",
              "<style scoped>\n",
              "    .dataframe tbody tr th:only-of-type {\n",
              "        vertical-align: middle;\n",
              "    }\n",
              "\n",
              "    .dataframe tbody tr th {\n",
              "        vertical-align: top;\n",
              "    }\n",
              "\n",
              "    .dataframe thead th {\n",
              "        text-align: right;\n",
              "    }\n",
              "</style>\n",
              "<table border=\"1\" class=\"dataframe\">\n",
              "  <thead>\n",
              "    <tr style=\"text-align: right;\">\n",
              "      <th></th>\n",
              "      <th>symbol</th>\n",
              "      <th>date</th>\n",
              "      <th>close</th>\n",
              "      <th>high</th>\n",
              "      <th>low</th>\n",
              "      <th>open</th>\n",
              "      <th>volume</th>\n",
              "      <th>adjClose</th>\n",
              "      <th>adjHigh</th>\n",
              "      <th>adjLow</th>\n",
              "      <th>adjOpen</th>\n",
              "      <th>adjVolume</th>\n",
              "      <th>divCash</th>\n",
              "      <th>splitFactor</th>\n",
              "    </tr>\n",
              "  </thead>\n",
              "  <tbody>\n",
              "    <tr>\n",
              "      <th>1252</th>\n",
              "      <td>AAPL</td>\n",
              "      <td>2020-07-23 00:00:00+00:00</td>\n",
              "      <td>371.38</td>\n",
              "      <td>388.3100</td>\n",
              "      <td>368.039</td>\n",
              "      <td>387.9935</td>\n",
              "      <td>49251108</td>\n",
              "      <td>371.38</td>\n",
              "      <td>388.3100</td>\n",
              "      <td>368.039</td>\n",
              "      <td>387.9935</td>\n",
              "      <td>49251108</td>\n",
              "      <td>0.0</td>\n",
              "      <td>1.0</td>\n",
              "    </tr>\n",
              "    <tr>\n",
              "      <th>1253</th>\n",
              "      <td>AAPL</td>\n",
              "      <td>2020-07-24 00:00:00+00:00</td>\n",
              "      <td>370.46</td>\n",
              "      <td>371.8800</td>\n",
              "      <td>356.580</td>\n",
              "      <td>363.9500</td>\n",
              "      <td>46359716</td>\n",
              "      <td>370.46</td>\n",
              "      <td>371.8800</td>\n",
              "      <td>356.580</td>\n",
              "      <td>363.9500</td>\n",
              "      <td>46359716</td>\n",
              "      <td>0.0</td>\n",
              "      <td>1.0</td>\n",
              "    </tr>\n",
              "    <tr>\n",
              "      <th>1254</th>\n",
              "      <td>AAPL</td>\n",
              "      <td>2020-07-27 00:00:00+00:00</td>\n",
              "      <td>379.24</td>\n",
              "      <td>379.6200</td>\n",
              "      <td>373.920</td>\n",
              "      <td>374.8400</td>\n",
              "      <td>30303548</td>\n",
              "      <td>379.24</td>\n",
              "      <td>379.6200</td>\n",
              "      <td>373.920</td>\n",
              "      <td>374.8400</td>\n",
              "      <td>30303548</td>\n",
              "      <td>0.0</td>\n",
              "      <td>1.0</td>\n",
              "    </tr>\n",
              "    <tr>\n",
              "      <th>1255</th>\n",
              "      <td>AAPL</td>\n",
              "      <td>2020-07-28 00:00:00+00:00</td>\n",
              "      <td>373.01</td>\n",
              "      <td>378.1986</td>\n",
              "      <td>372.990</td>\n",
              "      <td>377.4700</td>\n",
              "      <td>25906375</td>\n",
              "      <td>373.01</td>\n",
              "      <td>378.1986</td>\n",
              "      <td>372.990</td>\n",
              "      <td>377.4700</td>\n",
              "      <td>25906375</td>\n",
              "      <td>0.0</td>\n",
              "      <td>1.0</td>\n",
              "    </tr>\n",
              "    <tr>\n",
              "      <th>1256</th>\n",
              "      <td>AAPL</td>\n",
              "      <td>2020-07-29 00:00:00+00:00</td>\n",
              "      <td>380.16</td>\n",
              "      <td>380.9200</td>\n",
              "      <td>374.850</td>\n",
              "      <td>375.0000</td>\n",
              "      <td>22582314</td>\n",
              "      <td>380.16</td>\n",
              "      <td>380.9200</td>\n",
              "      <td>374.850</td>\n",
              "      <td>375.0000</td>\n",
              "      <td>22582314</td>\n",
              "      <td>0.0</td>\n",
              "      <td>1.0</td>\n",
              "    </tr>\n",
              "  </tbody>\n",
              "</table>\n",
              "</div>"
            ],
            "text/plain": [
              "     symbol                       date   close  ...  adjVolume  divCash  splitFactor\n",
              "1252   AAPL  2020-07-23 00:00:00+00:00  371.38  ...   49251108      0.0          1.0\n",
              "1253   AAPL  2020-07-24 00:00:00+00:00  370.46  ...   46359716      0.0          1.0\n",
              "1254   AAPL  2020-07-27 00:00:00+00:00  379.24  ...   30303548      0.0          1.0\n",
              "1255   AAPL  2020-07-28 00:00:00+00:00  373.01  ...   25906375      0.0          1.0\n",
              "1256   AAPL  2020-07-29 00:00:00+00:00  380.16  ...   22582314      0.0          1.0\n",
              "\n",
              "[5 rows x 14 columns]"
            ]
          },
          "metadata": {
            "tags": []
          },
          "execution_count": 9
        }
      ]
    },
    {
      "cell_type": "code",
      "metadata": {
        "id": "4P2hFD48qD1V",
        "colab_type": "code",
        "colab": {}
      },
      "source": [
        "df1=df.reset_index()['close']"
      ],
      "execution_count": 10,
      "outputs": []
    },
    {
      "cell_type": "code",
      "metadata": {
        "id": "1JjcWlwMqdIC",
        "colab_type": "code",
        "colab": {
          "base_uri": "https://localhost:8080/",
          "height": 221
        },
        "outputId": "9ef82707-f9fe-4f69-de87-18032816d2ee"
      },
      "source": [
        "df1"
      ],
      "execution_count": 11,
      "outputs": [
        {
          "output_type": "execute_result",
          "data": {
            "text/plain": [
              "0       118.44\n",
              "1       114.64\n",
              "2       115.40\n",
              "3       115.13\n",
              "4       115.52\n",
              "         ...  \n",
              "1252    371.38\n",
              "1253    370.46\n",
              "1254    379.24\n",
              "1255    373.01\n",
              "1256    380.16\n",
              "Name: close, Length: 1257, dtype: float64"
            ]
          },
          "metadata": {
            "tags": []
          },
          "execution_count": 11
        }
      ]
    },
    {
      "cell_type": "code",
      "metadata": {
        "id": "GZrXFtF5qvzy",
        "colab_type": "code",
        "colab": {
          "base_uri": "https://localhost:8080/",
          "height": 282
        },
        "outputId": "9980c660-4bc0-43e4-faaf-e7d2a9ba3c48"
      },
      "source": [
        "import matplotlib.pyplot as plt\n",
        "plt.plot(df1)"
      ],
      "execution_count": 12,
      "outputs": [
        {
          "output_type": "execute_result",
          "data": {
            "text/plain": [
              "[<matplotlib.lines.Line2D at 0x7fc04b8bf8d0>]"
            ]
          },
          "metadata": {
            "tags": []
          },
          "execution_count": 12
        },
        {
          "output_type": "display_data",
          "data": {
            "image/png": "[encoded data removed]",
            "text/plain": [
              "<Figure size 432x288 with 1 Axes>"
            ]
          },
          "metadata": {
            "tags": [],
            "needs_background": "light"
          }
        }
      ]
    },
    {
      "cell_type": "markdown",
      "metadata": {
        "id": "X8b8vODVq_04",
        "colab_type": "text"
      },
      "source": [
        "### LSTM are sensitive to the scale of the data. so we apply MinMax scaler"
      ]
    },
    {
      "cell_type": "code",
      "metadata": {
        "id": "2F3j1pulq0H3",
        "colab_type": "code",
        "colab": {}
      },
      "source": [
        "import numpy as np"
      ],
      "execution_count": 14,
      "outputs": []
    },
    {
      "cell_type": "code",
      "metadata": {
        "id": "qt6yR1yErRoh",
        "colab_type": "code",
        "colab": {
          "base_uri": "https://localhost:8080/",
          "height": 221
        },
        "outputId": "081f0eee-2aa7-4ba5-8969-56e914134ee7"
      },
      "source": [
        "df1"
      ],
      "execution_count": 15,
      "outputs": [
        {
          "output_type": "execute_result",
          "data": {
            "text/plain": [
              "0       118.44\n",
              "1       114.64\n",
              "2       115.40\n",
              "3       115.13\n",
              "4       115.52\n",
              "         ...  \n",
              "1252    371.38\n",
              "1253    370.46\n",
              "1254    379.24\n",
              "1255    373.01\n",
              "1256    380.16\n",
              "Name: close, Length: 1257, dtype: float64"
            ]
          },
          "metadata": {
            "tags": []
          },
          "execution_count": 15
        }
      ]
    },
    {
      "cell_type": "code",
      "metadata": {
        "id": "qfe26FL4rTgK",
        "colab_type": "code",
        "colab": {}
      },
      "source": [
        "from sklearn.preprocessing import MinMaxScaler\n",
        "scaler=MinMaxScaler(feature_range=(0,1))\n",
        "df1=scaler.fit_transform(np.array(df1).reshape(-1,1))"
      ],
      "execution_count": 16,
      "outputs": []
    },
    {
      "cell_type": "code",
      "metadata": {
        "id": "opnaYQGArarw",
        "colab_type": "code",
        "colab": {
          "base_uri": "https://localhost:8080/",
          "height": 136
        },
        "outputId": "31be63f2-1bd5-49f7-cdd3-3ba886323839"
      },
      "source": [
        "print (df1)"
      ],
      "execution_count": 17,
      "outputs": [
        {
          "output_type": "stream",
          "text": [
            "[[0.09271174]\n",
            " [0.08017421]\n",
            " [0.08268171]\n",
            " ...\n",
            " [0.95318222]\n",
            " [0.93262727]\n",
            " [0.95621763]]\n"
          ],
          "name": "stdout"
        }
      ]
    },
    {
      "cell_type": "code",
      "metadata": {
        "id": "wEiZj1ckrikK",
        "colab_type": "code",
        "colab": {}
      },
      "source": [
        "##splitting dataset into train and test split\n",
        "training_size=int(len(df1)*0.65)\n",
        "test_size=len(df1)-training_size\n",
        "train_data,test_data=df1[0:training_size,:],df1[training_size:len(df1),:1]\n"
      ],
      "execution_count": 19,
      "outputs": []
    },
    {
      "cell_type": "code",
      "metadata": {
        "id": "kTB6mnVxrsYy",
        "colab_type": "code",
        "colab": {
          "base_uri": "https://localhost:8080/",
          "height": 34
        },
        "outputId": "1a8a557e-8df9-4ee7-dd7a-b5ae925991bb"
      },
      "source": [
        "training_size,test_size"
      ],
      "execution_count": 20,
      "outputs": [
        {
          "output_type": "execute_result",
          "data": {
            "text/plain": [
              "(817, 440)"
            ]
          },
          "metadata": {
            "tags": []
          },
          "execution_count": 20
        }
      ]
    },
    {
      "cell_type": "code",
      "metadata": {
        "id": "9p63SYD-rtbe",
        "colab_type": "code",
        "colab": {
          "base_uri": "https://localhost:8080/",
          "height": 1000
        },
        "outputId": "1ddd2975-47c6-4553-989d-956afd397f20"
      },
      "source": [
        "train_data"
      ],
      "execution_count": 21,
      "outputs": [
        {
          "output_type": "execute_result",
          "data": {
            "text/plain": [
              "array([[0.09271174],\n",
              "       [0.08017421],\n",
              "       [0.08268171],\n",
              "       [0.08179089],\n",
              "       [0.08307763],\n",
              "       [0.0969349 ],\n",
              "       [0.07637995],\n",
              "       [0.08215382],\n",
              "       [0.08185687],\n",
              "       [0.08452935],\n",
              "       [0.08848857],\n",
              "       [0.086311  ],\n",
              "       [0.08139497],\n",
              "       [0.0736085 ],\n",
              "       [0.05087598],\n",
              "       [0.04216569],\n",
              "       [0.04421129],\n",
              "       [0.06384242],\n",
              "       [0.07449932],\n",
              "       [0.07572008],\n",
              "       [0.07397143],\n",
              "       [0.0573427 ],\n",
              "       [0.0725857 ],\n",
              "       [0.06608598],\n",
              "       [0.0624567 ],\n",
              "       [0.07248672],\n",
              "       [0.06536012],\n",
              "       [0.07334455],\n",
              "       [0.07875549],\n",
              "       [0.08238477],\n",
              "       [0.08558514],\n",
              "       [0.08601406],\n",
              "       [0.07779867],\n",
              "       [0.07624798],\n",
              "       [0.08205484],\n",
              "       [0.07608301],\n",
              "       [0.07911841],\n",
              "       [0.08136197],\n",
              "       [0.08040516],\n",
              "       [0.07291564],\n",
              "       [0.06176383],\n",
              "       [0.06585503],\n",
              "       [0.06347949],\n",
              "       [0.06611897],\n",
              "       [0.06743871],\n",
              "       [0.06918737],\n",
              "       [0.06743871],\n",
              "       [0.06321555],\n",
              "       [0.07185984],\n",
              "       [0.07014418],\n",
              "       [0.07077106],\n",
              "       [0.06555809],\n",
              "       [0.07100201],\n",
              "       [0.06829655],\n",
              "       [0.0705731 ],\n",
              "       [0.07730377],\n",
              "       [0.07727078],\n",
              "       [0.08301165],\n",
              "       [0.09482332],\n",
              "       [0.08228579],\n",
              "       [0.07987726],\n",
              "       [0.0954502 ],\n",
              "       [0.09960738],\n",
              "       [0.09620905],\n",
              "       [0.10175195],\n",
              "       [0.10633805],\n",
              "       [0.10445742],\n",
              "       [0.10089412],\n",
              "       [0.10135603],\n",
              "       [0.09973935],\n",
              "       [0.08720182],\n",
              "       [0.08502425],\n",
              "       [0.0837375 ],\n",
              "       [0.0725857 ],\n",
              "       [0.07864001],\n",
              "       [0.07703982],\n",
              "       [0.08891748],\n",
              "       [0.09383351],\n",
              "       [0.09554918],\n",
              "       [0.09043518],\n",
              "       [0.09416345],\n",
              "       [0.091359  ],\n",
              "       [0.09063315],\n",
              "       [0.09224983],\n",
              "       [0.08908245],\n",
              "       [0.08558514],\n",
              "       [0.08202184],\n",
              "       [0.09465835],\n",
              "       [0.09218384],\n",
              "       [0.09201887],\n",
              "       [0.08340757],\n",
              "       [0.08522221],\n",
              "       [0.07535715],\n",
              "       [0.07304761],\n",
              "       [0.0664819 ],\n",
              "       [0.06928635],\n",
              "       [0.06149988],\n",
              "       [0.0517668 ],\n",
              "       [0.05605596],\n",
              "       [0.05572602],\n",
              "       [0.06027913],\n",
              "       [0.0583655 ],\n",
              "       [0.05437329],\n",
              "       [0.06070804],\n",
              "       [0.05602296],\n",
              "       [0.0492263 ],\n",
              "       [0.04952324],\n",
              "       [0.04081296],\n",
              "       [0.03418127],\n",
              "       [0.02015903],\n",
              "       [0.0218417 ],\n",
              "       [0.02702168],\n",
              "       [0.03173975],\n",
              "       [0.02326042],\n",
              "       [0.03028803],\n",
              "       [0.02240259],\n",
              "       [0.02085189],\n",
              "       [0.02128081],\n",
              "       [0.01966413],\n",
              "       [0.0365568 ],\n",
              "       [0.03002409],\n",
              "       [0.03183873],\n",
              "       [0.010162  ],\n",
              "       [0.01237256],\n",
              "       [0.02309545],\n",
              "       [0.02009304],\n",
              "       [0.01365931],\n",
              "       [0.01982909],\n",
              "       [0.02065393],\n",
              "       [0.01214161],\n",
              "       [0.01540796],\n",
              "       [0.01534198],\n",
              "       [0.01296645],\n",
              "       [0.01108582],\n",
              "       [0.01204263],\n",
              "       [0.02078591],\n",
              "       [0.02566894],\n",
              "       [0.01953215],\n",
              "       [0.0188063 ],\n",
              "       [0.02157775],\n",
              "       [0.01435217],\n",
              "       [0.01900426],\n",
              "       [0.02118183],\n",
              "       [0.02167673],\n",
              "       [0.02095087],\n",
              "       [0.03362038],\n",
              "       [0.03434623],\n",
              "       [0.03682075],\n",
              "       [0.04180276],\n",
              "       [0.03804151],\n",
              "       [0.03527005],\n",
              "       [0.03556699],\n",
              "       [0.03573196],\n",
              "       [0.03932825],\n",
              "       [0.04018608],\n",
              "       [0.04698274],\n",
              "       [0.05156884],\n",
              "       [0.05100795],\n",
              "       [0.05140387],\n",
              "       [0.05137088],\n",
              "       [0.05404335],\n",
              "       [0.05209674],\n",
              "       [0.05057904],\n",
              "       [0.04899535],\n",
              "       [0.05721073],\n",
              "       [0.06341351],\n",
              "       [0.06153288],\n",
              "       [0.06483223],\n",
              "       [0.06856049],\n",
              "       [0.06423835],\n",
              "       [0.0680326 ],\n",
              "       [0.06004817],\n",
              "       [0.06044409],\n",
              "       [0.06163186],\n",
              "       [0.06631694],\n",
              "       [0.0715959 ],\n",
              "       [0.07179386],\n",
              "       [0.06437032],\n",
              "       [0.05655086],\n",
              "       [0.05467023],\n",
              "       [0.05539609],\n",
              "       [0.05156884],\n",
              "       [0.05061203],\n",
              "       [0.04863242],\n",
              "       [0.04622389],\n",
              "       [0.02467914],\n",
              "       [0.01481408],\n",
              "       [0.01121779],\n",
              "       [0.01088786],\n",
              "       [0.01596885],\n",
              "       [0.0127025 ],\n",
              "       [0.00956812],\n",
              "       [0.00785245],\n",
              "       [0.00808341],\n",
              "       [0.010162  ],\n",
              "       [0.00715959],\n",
              "       [0.        ],\n",
              "       [0.00059388],\n",
              "       [0.0116797 ],\n",
              "       [0.01039295],\n",
              "       [0.01392326],\n",
              "       [0.01273549],\n",
              "       [0.01610083],\n",
              "       [0.02009304],\n",
              "       [0.02494309],\n",
              "       [0.03061797],\n",
              "       [0.03322445],\n",
              "       [0.03302649],\n",
              "       [0.03140981],\n",
              "       [0.02679072],\n",
              "       [0.0243492 ],\n",
              "       [0.02500907],\n",
              "       [0.02735161],\n",
              "       [0.02867135],\n",
              "       [0.02837441],\n",
              "       [0.03071695],\n",
              "       [0.02801148],\n",
              "       [0.02309545],\n",
              "       [0.02349137],\n",
              "       [0.02243558],\n",
              "       [0.02378831],\n",
              "       [0.01646376],\n",
              "       [0.01570491],\n",
              "       [0.01837738],\n",
              "       [0.01718961],\n",
              "       [0.01900426],\n",
              "       [0.01009601],\n",
              "       [0.0056089 ],\n",
              "       [0.01072289],\n",
              "       [0.01339536],\n",
              "       [0.01735458],\n",
              "       [0.01831139],\n",
              "       [0.01534198],\n",
              "       [0.01712363],\n",
              "       [0.01847636],\n",
              "       [0.02091788],\n",
              "       [0.02190768],\n",
              "       [0.0233594 ],\n",
              "       [0.02154476],\n",
              "       [0.02787951],\n",
              "       [0.02784651],\n",
              "       [0.03131083],\n",
              "       [0.03144281],\n",
              "       [0.03173975],\n",
              "       [0.02999109],\n",
              "       [0.02745059],\n",
              "       [0.02309545],\n",
              "       [0.02088489],\n",
              "       [0.0416048 ],\n",
              "       [0.0461909 ],\n",
              "       [0.04576198],\n",
              "       [0.05183279],\n",
              "       [0.04665281],\n",
              "       [0.05097496],\n",
              "       [0.05123891],\n",
              "       [0.05655086],\n",
              "       [0.05948728],\n",
              "       [0.060939  ],\n",
              "       [0.05826652],\n",
              "       [0.05803557],\n",
              "       [0.0588604 ],\n",
              "       [0.06314956],\n",
              "       [0.06281962],\n",
              "       [0.06229173],\n",
              "       [0.06182982],\n",
              "       [0.06275364],\n",
              "       [0.05994919],\n",
              "       [0.06107097],\n",
              "       [0.0583655 ],\n",
              "       [0.0568478 ],\n",
              "       [0.05476921],\n",
              "       [0.05437329],\n",
              "       [0.05166782],\n",
              "       [0.05199776],\n",
              "       [0.05407635],\n",
              "       [0.0573757 ],\n",
              "       [0.05727672],\n",
              "       [0.05945429],\n",
              "       [0.05008413],\n",
              "       [0.04219869],\n",
              "       [0.04982019],\n",
              "       [0.05810155],\n",
              "       [0.07070507],\n",
              "       [0.0832426 ],\n",
              "       [0.08109802],\n",
              "       [0.07667689],\n",
              "       [0.0766439 ],\n",
              "       [0.07657791],\n",
              "       [0.08010822],\n",
              "       [0.07380646],\n",
              "       [0.07436735],\n",
              "       [0.07506021],\n",
              "       [0.07789765],\n",
              "       [0.0720578 ],\n",
              "       [0.07492824],\n",
              "       [0.07317958],\n",
              "       [0.07476327],\n",
              "       [0.07492824],\n",
              "       [0.07769969],\n",
              "       [0.07826058],\n",
              "       [0.08482629],\n",
              "       [0.08565113],\n",
              "       [0.08908245],\n",
              "       [0.08789468],\n",
              "       [0.09003926],\n",
              "       [0.08977531],\n",
              "       [0.08951137],\n",
              "       [0.08835659],\n",
              "       [0.08815863],\n",
              "       [0.08664093],\n",
              "       [0.09010525],\n",
              "       [0.09208486],\n",
              "       [0.08330859],\n",
              "       [0.07964631],\n",
              "       [0.0771388 ],\n",
              "       [0.07654492],\n",
              "       [0.06978125],\n",
              "       [0.07011119],\n",
              "       [0.06430433],\n",
              "       [0.06103798],\n",
              "       [0.06621796],\n",
              "       [0.06836253],\n",
              "       [0.06776865],\n",
              "       [0.05757366],\n",
              "       [0.05968524],\n",
              "       [0.05071101],\n",
              "       [0.0553301 ],\n",
              "       [0.06483223],\n",
              "       [0.06470025],\n",
              "       [0.06506318],\n",
              "       [0.0705731 ],\n",
              "       [0.07080405],\n",
              "       [0.06892342],\n",
              "       [0.07077106],\n",
              "       [0.0700452 ],\n",
              "       [0.06968227],\n",
              "       [0.06658088],\n",
              "       [0.06318255],\n",
              "       [0.06453529],\n",
              "       [0.0619288 ],\n",
              "       [0.06470025],\n",
              "       [0.06826355],\n",
              "       [0.07185984],\n",
              "       [0.07789765],\n",
              "       [0.07575308],\n",
              "       [0.08198885],\n",
              "       [0.08198885],\n",
              "       [0.08406744],\n",
              "       [0.08456234],\n",
              "       [0.08677291],\n",
              "       [0.0877957 ],\n",
              "       [0.08815863],\n",
              "       [0.08561813],\n",
              "       [0.08637698],\n",
              "       [0.0888185 ],\n",
              "       [0.08716883],\n",
              "       [0.08706985],\n",
              "       [0.08406744],\n",
              "       [0.08515622],\n",
              "       [0.08472731],\n",
              "       [0.08667393],\n",
              "       [0.09096308],\n",
              "       [0.09452638],\n",
              "       [0.0949223 ],\n",
              "       [0.09703388],\n",
              "       [0.09538421],\n",
              "       [0.09469135],\n",
              "       [0.09785872],\n",
              "       [0.09782573],\n",
              "       [0.09713286],\n",
              "       [0.09785872],\n",
              "       [0.09812267],\n",
              "       [0.09775974],\n",
              "       [0.1040615 ],\n",
              "       [0.10425946],\n",
              "       [0.10429245],\n",
              "       [0.10323666],\n",
              "       [0.10231284],\n",
              "       [0.12672803],\n",
              "       [0.12600218],\n",
              "       [0.12781682],\n",
              "       [0.13180903],\n",
              "       [0.13590023],\n",
              "       [0.1375829 ],\n",
              "       [0.13883665],\n",
              "       [0.13784684],\n",
              "       [0.14170708],\n",
              "       [0.14741496],\n",
              "       [0.14903164],\n",
              "       [0.14848725],\n",
              "       [0.1497245 ],\n",
              "       [0.15295787],\n",
              "       [0.1543106 ],\n",
              "       [0.15239698],\n",
              "       [0.15282589],\n",
              "       [0.15371672],\n",
              "       [0.15391468],\n",
              "       [0.16315286],\n",
              "       [0.1604144 ],\n",
              "       [0.16311987],\n",
              "       [0.16166815],\n",
              "       [0.16226203],\n",
              "       [0.16054637],\n",
              "       [0.15949058],\n",
              "       [0.16100828],\n",
              "       [0.16120624],\n",
              "       [0.16051338],\n",
              "       [0.16536342],\n",
              "       [0.16612227],\n",
              "       [0.16381273],\n",
              "       [0.16866277],\n",
              "       [0.16331783],\n",
              "       [0.1685308 ],\n",
              "       [0.16688112],\n",
              "       [0.16595731],\n",
              "       [0.16674915],\n",
              "       [0.17638325],\n",
              "       [0.17743904],\n",
              "       [0.17681217],\n",
              "       [0.17592134],\n",
              "       [0.17605332],\n",
              "       [0.17958362],\n",
              "       [0.17710911],\n",
              "       [0.17592134],\n",
              "       [0.17486555],\n",
              "       [0.17430466],\n",
              "       [0.16922366],\n",
              "       [0.16978455],\n",
              "       [0.16731004],\n",
              "       [0.16988353],\n",
              "       [0.16780494],\n",
              "       [0.16608928],\n",
              "       [0.17189614],\n",
              "       [0.17133525],\n",
              "       [0.17585536],\n",
              "       [0.17879178],\n",
              "       [0.17598733],\n",
              "       [0.17635026],\n",
              "       [0.17588835],\n",
              "       [0.18555545],\n",
              "       [0.18862384],\n",
              "       [0.18713913],\n",
              "       [0.18539048],\n",
              "       [0.1934079 ],\n",
              "       [0.20677027],\n",
              "       [0.21000363],\n",
              "       [0.2075951 ],\n",
              "       [0.20987166],\n",
              "       [0.21696526],\n",
              "       [0.21564552],\n",
              "       [0.21488667],\n",
              "       [0.19766406],\n",
              "       [0.20521957],\n",
              "       [0.20693523],\n",
              "       [0.21000363],\n",
              "       [0.20937675],\n",
              "       [0.20785905],\n",
              "       [0.20960771],\n",
              "       [0.20874988],\n",
              "       [0.20894784],\n",
              "       [0.20594543],\n",
              "       [0.20733116],\n",
              "       [0.21482068],\n",
              "       [0.20980567],\n",
              "       [0.21152133],\n",
              "       [0.21455673],\n",
              "       [0.21330298],\n",
              "       [0.19347389],\n",
              "       [0.1817282 ],\n",
              "       [0.18558844],\n",
              "       [0.18087037],\n",
              "       [0.17799993],\n",
              "       [0.17133525],\n",
              "       [0.1847636 ],\n",
              "       [0.18037547],\n",
              "       [0.18321291],\n",
              "       [0.18242106],\n",
              "       [0.18456564],\n",
              "       [0.18304794],\n",
              "       [0.1761523 ],\n",
              "       [0.18308093],\n",
              "       [0.17598733],\n",
              "       [0.17710911],\n",
              "       [0.17539345],\n",
              "       [0.17734006],\n",
              "       [0.17285295],\n",
              "       [0.17763701],\n",
              "       [0.18054043],\n",
              "       [0.18209113],\n",
              "       [0.18278399],\n",
              "       [0.18948167],\n",
              "       [0.19367185],\n",
              "       [0.19538751],\n",
              "       [0.19710317],\n",
              "       [0.20020456],\n",
              "       [0.197961  ],\n",
              "       [0.19773005],\n",
              "       [0.20373486],\n",
              "       [0.20587944],\n",
              "       [0.20825497],\n",
              "       [0.19868686],\n",
              "       [0.19518955],\n",
              "       [0.19264905],\n",
              "       [0.19700419],\n",
              "       [0.22039658],\n",
              "       [0.2152166 ],\n",
              "       [0.21792207],\n",
              "       [0.2259065 ],\n",
              "       [0.23009667],\n",
              "       [0.23333003],\n",
              "       [0.21439176],\n",
              "       [0.22151836],\n",
              "       [0.22933782],\n",
              "       [0.23511168],\n",
              "       [0.23296711],\n",
              "       [0.22277211],\n",
              "       [0.22158435],\n",
              "       [0.22062754],\n",
              "       [0.22910687],\n",
              "       [0.22976674],\n",
              "       [0.2274242 ],\n",
              "       [0.22937081],\n",
              "       [0.23468277],\n",
              "       [0.23943383],\n",
              "       [0.24088555],\n",
              "       [0.24303012],\n",
              "       [0.24319509],\n",
              "       [0.23669537],\n",
              "       [0.23613448],\n",
              "       [0.2339899 ],\n",
              "       [0.22531261],\n",
              "       [0.23478175],\n",
              "       [0.23267016],\n",
              "       [0.22867795],\n",
              "       [0.22415784],\n",
              "       [0.2294368 ],\n",
              "       [0.22544459],\n",
              "       [0.22564255],\n",
              "       [0.21686628],\n",
              "       [0.20802402],\n",
              "       [0.20307499],\n",
              "       [0.19865387],\n",
              "       [0.20719918],\n",
              "       [0.21079547],\n",
              "       [0.20766109],\n",
              "       [0.21043254],\n",
              "       [0.20940975],\n",
              "       [0.21162031],\n",
              "       [0.20832096],\n",
              "       [0.21462272],\n",
              "       [0.21432578],\n",
              "       [0.21610743],\n",
              "       [0.21630539],\n",
              "       [0.21844997],\n",
              "       [0.21663532],\n",
              "       [0.21990168],\n",
              "       [0.2294368 ],\n",
              "       [0.23138342],\n",
              "       [0.22904088],\n",
              "       [0.21656934],\n",
              "       [0.21746016],\n",
              "       [0.21719621],\n",
              "       [0.22026461],\n",
              "       [0.21798806],\n",
              "       [0.22128741],\n",
              "       [0.23989574],\n",
              "       [0.25200436],\n",
              "       [0.25965885],\n",
              "       [0.25256524],\n",
              "       [0.25659045],\n",
              "       [0.2710746 ],\n",
              "       [0.27684846],\n",
              "       [0.2786961 ],\n",
              "       [0.28341417],\n",
              "       [0.2822264 ],\n",
              "       [0.27823419],\n",
              "       [0.27592464],\n",
              "       [0.26724735],\n",
              "       [0.25979082],\n",
              "       [0.26645551],\n",
              "       [0.26332113],\n",
              "       [0.26276024],\n",
              "       [0.27318618],\n",
              "       [0.279191  ],\n",
              "       [0.27922399],\n",
              "       [0.27632056],\n",
              "       [0.27295523],\n",
              "       [0.26111056],\n",
              "       [0.26893002],\n",
              "       [0.26629054],\n",
              "       [0.26216635],\n",
              "       [0.26163846],\n",
              "       [0.25955987],\n",
              "       [0.26058267],\n",
              "       [0.26074763],\n",
              "       [0.27163549],\n",
              "       [0.26843512],\n",
              "       [0.27031575],\n",
              "       [0.27015078],\n",
              "       [0.27592464],\n",
              "       [0.28400805],\n",
              "       [0.27780527],\n",
              "       [0.2771784 ],\n",
              "       [0.27935597],\n",
              "       [0.27935597],\n",
              "       [0.26470685],\n",
              "       [0.26480583],\n",
              "       [0.26638952],\n",
              "       [0.26028572],\n",
              "       [0.27028275],\n",
              "       [0.27018377],\n",
              "       [0.27282325],\n",
              "       [0.27932297],\n",
              "       [0.2771784 ],\n",
              "       [0.27711241],\n",
              "       [0.27698043],\n",
              "       [0.28024679],\n",
              "       [0.28621861],\n",
              "       [0.2832492 ],\n",
              "       [0.29285031],\n",
              "       [0.2933782 ],\n",
              "       [0.29073872],\n",
              "       [0.28592167],\n",
              "       [0.28605365],\n",
              "       [0.27674948],\n",
              "       [0.2664885 ],\n",
              "       [0.26780824],\n",
              "       [0.25609555],\n",
              "       [0.25282919],\n",
              "       [0.25434689],\n",
              "       [0.25550167],\n",
              "       [0.2314824 ],\n",
              "       [0.218252  ],\n",
              "       [0.23982975],\n",
              "       [0.22831502],\n",
              "       [0.21383088],\n",
              "       [0.21798806],\n",
              "       [0.23877396],\n",
              "       [0.2441519 ],\n",
              "       [0.25414893],\n",
              "       [0.27269128],\n",
              "       [0.27084364],\n",
              "       [0.26893002],\n",
              "       [0.26635653],\n",
              "       [0.2710746 ],\n",
              "       [0.28097265],\n",
              "       [0.29242139],\n",
              "       [0.29050777],\n",
              "       [0.28961695],\n",
              "       [0.27932297],\n",
              "       [0.28331519],\n",
              "       [0.28532779],\n",
              "       [0.28483289],\n",
              "       [0.27942195],\n",
              "       [0.28572371],\n",
              "       [0.29575374],\n",
              "       [0.30149461],\n",
              "       [0.29572074],\n",
              "       [0.29067274],\n",
              "       [0.2913656 ],\n",
              "       [0.28928701],\n",
              "       [0.28031278],\n",
              "       [0.28011482],\n",
              "       [0.2670164 ],\n",
              "       [0.25903197],\n",
              "       [0.24613151],\n",
              "       [0.27196542],\n",
              "       [0.2573493 ],\n",
              "       [0.25121251],\n",
              "       [0.25550167],\n",
              "       [0.25187238],\n",
              "       [0.25751427],\n",
              "       [0.26813818],\n",
              "       [0.2720644 ],\n",
              "       [0.25748128],\n",
              "       [0.26299119],\n",
              "       [0.27354911],\n",
              "       [0.27087664],\n",
              "       [0.27648553],\n",
              "       [0.27843215],\n",
              "       [0.28202844],\n",
              "       [0.29001287],\n",
              "       [0.28869313],\n",
              "       [0.2720644 ],\n",
              "       [0.24870501],\n",
              "       [0.24712132],\n",
              "       [0.23953281],\n",
              "       [0.24187535],\n",
              "       [0.24375598],\n",
              "       [0.23748722],\n",
              "       [0.2471873 ],\n",
              "       [0.25985681],\n",
              "       [0.28450295],\n",
              "       [0.28555874],\n",
              "       [0.30845623],\n",
              "       [0.31284437],\n",
              "       [0.31578079],\n",
              "       [0.32010294],\n",
              "       [0.3289452 ],\n",
              "       [0.32416114],\n",
              "       [0.32270943],\n",
              "       [0.31706754],\n",
              "       [0.32280841],\n",
              "       [0.31888218],\n",
              "       [0.31663862],\n",
              "       [0.32099376],\n",
              "       [0.31944307],\n",
              "       [0.32340229],\n",
              "       [0.32270943],\n",
              "       [0.32412815],\n",
              "       [0.32188459],\n",
              "       [0.32056485],\n",
              "       [0.31848626],\n",
              "       [0.32960507],\n",
              "       [0.33485103],\n",
              "       [0.33973407],\n",
              "       [0.34194464],\n",
              "       [0.34022897],\n",
              "       [0.33442212],\n",
              "       [0.33287142],\n",
              "       [0.33633574],\n",
              "       [0.33112277],\n",
              "       [0.3314527 ],\n",
              "       [0.32498598],\n",
              "       [0.32465604],\n",
              "       [0.31459303],\n",
              "       [0.3172655 ],\n",
              "       [0.31383417],\n",
              "       [0.31205253],\n",
              "       [0.30297931],\n",
              "       [0.31043584],\n",
              "       [0.30954502],\n",
              "       [0.31396615],\n",
              "       [0.3126794 ],\n",
              "       [0.31950906],\n",
              "       [0.30875318],\n",
              "       [0.31363621],\n",
              "       [0.32211554],\n",
              "       [0.33072685],\n",
              "       [0.329968  ],\n",
              "       [0.3218186 ],\n",
              "       [0.33221155],\n",
              "       [0.33320136],\n",
              "       [0.33181563],\n",
              "       [0.33359728],\n",
              "       [0.33013296],\n",
              "       [0.335016  ],\n",
              "       [0.33356429],\n",
              "       [0.33412518],\n",
              "       [0.33871127],\n",
              "       [0.34471609],\n",
              "       [0.34270349],\n",
              "       [0.33204659],\n",
              "       [0.32851628],\n",
              "       [0.32977004],\n",
              "       [0.36675575],\n",
              "       [0.38618892],\n",
              "       [0.38816853],\n",
              "       [0.39173183],\n",
              "       [0.3852651 ],\n",
              "       [0.38572701],\n",
              "       [0.39110495],\n",
              "       [0.38665083],\n",
              "       [0.39107196],\n",
              "       [0.39397539],\n",
              "       [0.39559207],\n",
              "       [0.40575407],\n",
              "       [0.4198093 ],\n",
              "       [0.41281468],\n",
              "       [0.41142895],\n",
              "       [0.41146194],\n",
              "       [0.41291366],\n",
              "       [0.41512422],\n",
              "       [0.42099706],\n",
              "       [0.42680392],\n",
              "       [0.43762579],\n",
              "       [0.44438946],\n",
              "       [0.45296777],\n",
              "       [0.45537629],\n",
              "       [0.45046026],\n",
              "       [0.43802171],\n",
              "       [0.43208288],\n",
              "       [0.42228381],\n",
              "       [0.44049622],\n",
              "       [0.43132403],\n",
              "       [0.44894256],\n",
              "       [0.44046323],\n",
              "       [0.4207991 ],\n",
              "       [0.42198687],\n",
              "       [0.42241578],\n",
              "       [0.42789271],\n",
              "       [0.42007325],\n",
              "       [0.43040021],\n",
              "       [0.4350193 ],\n",
              "       [0.42917945],\n",
              "       [0.44412551],\n",
              "       [0.44673199],\n",
              "       [0.45174701],\n",
              "       [0.45841169],\n",
              "       [0.46761688],\n",
              "       [0.45415553],\n",
              "       [0.44194794],\n",
              "       [0.44023227],\n",
              "       [0.45046026],\n",
              "       [0.41578409],\n",
              "       [0.40948233],\n",
              "       [0.43475535],\n",
              "       [0.41908344],\n",
              "       [0.43488733],\n",
              "       [0.43171995],\n",
              "       [0.41466231],\n",
              "       [0.42551717],\n",
              "       [0.4299383 ],\n",
              "       [0.43680095],\n",
              "       [0.41159392],\n",
              "       [0.42713385],\n",
              "       [0.41558613]])"
            ]
          },
          "metadata": {
            "tags": []
          },
          "execution_count": 21
        }
      ]
    },
    {
      "cell_type": "code",
      "metadata": {
        "id": "B0jK6HNlr9kX",
        "colab_type": "code",
        "colab": {}
      },
      "source": [
        "import numpy\n",
        "# convert an array of values into a dataset matrix\n",
        "def create_dataset(dataset, time_step=1):\n",
        "\tdataX, dataY = [], []\n",
        "\tfor i in range(len(dataset)-time_step-1):\n",
        "\t\ta = dataset[i:(i+time_step), 0]   ###i=0, 0,1,2,3-----99   100 \n",
        "\t\tdataX.append(a)\n",
        "\t\tdataY.append(dataset[i + time_step, 0])\n",
        "\treturn numpy.array(dataX), numpy.array(dataY)"
      ],
      "execution_count": 22,
      "outputs": []
    },
    {
      "cell_type": "code",
      "metadata": {
        "id": "4C33Qff_sIFh",
        "colab_type": "code",
        "colab": {}
      },
      "source": [
        "# reshape into X=t,t+1,t+2,t+3 and Y=t+4\n",
        "time_step = 100\n",
        "X_train, y_train = create_dataset(train_data, time_step)\n",
        "X_test, ytest = create_dataset(test_data, time_step)"
      ],
      "execution_count": 23,
      "outputs": []
    },
    {
      "cell_type": "code",
      "metadata": {
        "id": "I3SiORibsPW3",
        "colab_type": "code",
        "colab": {
          "base_uri": "https://localhost:8080/",
          "height": 68
        },
        "outputId": "6dffc728-5547-48f5-9114-53e420152224"
      },
      "source": [
        "print(X_train.shape), print(y_train.shape)"
      ],
      "execution_count": 24,
      "outputs": [
        {
          "output_type": "stream",
          "text": [
            "(716, 100)\n",
            "(716,)\n"
          ],
          "name": "stdout"
        },
        {
          "output_type": "execute_result",
          "data": {
            "text/plain": [
              "(None, None)"
            ]
          },
          "metadata": {
            "tags": []
          },
          "execution_count": 24
        }
      ]
    },
    {
      "cell_type": "code",
      "metadata": {
        "id": "AL6poreesVC7",
        "colab_type": "code",
        "colab": {
          "base_uri": "https://localhost:8080/",
          "height": 68
        },
        "outputId": "ae581b12-3564-4194-c300-3703df67df38"
      },
      "source": [
        "print(X_test.shape), print(ytest.shape)"
      ],
      "execution_count": 25,
      "outputs": [
        {
          "output_type": "stream",
          "text": [
            "(339, 100)\n",
            "(339,)\n"
          ],
          "name": "stdout"
        },
        {
          "output_type": "execute_result",
          "data": {
            "text/plain": [
              "(None, None)"
            ]
          },
          "metadata": {
            "tags": []
          },
          "execution_count": 25
        }
      ]
    },
    {
      "cell_type": "code",
      "metadata": {
        "id": "k4HTBL7xsf5U",
        "colab_type": "code",
        "colab": {}
      },
      "source": [
        "# reshape input to be [samples, time steps, features] which is required for LSTM\n",
        "X_train =X_train.reshape(X_train.shape[0],X_train.shape[1] , 1)\n",
        "X_test = X_test.reshape(X_test.shape[0],X_test.shape[1] , 1)"
      ],
      "execution_count": 26,
      "outputs": []
    },
    {
      "cell_type": "code",
      "metadata": {
        "id": "Rq1NMD7MskjB",
        "colab_type": "code",
        "colab": {}
      },
      "source": [
        "### Create the Stacked LSTM model\n",
        "from tensorflow.keras.models import Sequential\n",
        "from tensorflow.keras.layers import Dense\n",
        "from tensorflow.keras.layers import LSTM"
      ],
      "execution_count": 27,
      "outputs": []
    },
    {
      "cell_type": "code",
      "metadata": {
        "id": "2HGmhDFRst2V",
        "colab_type": "code",
        "colab": {}
      },
      "source": [
        "model=Sequential()\n",
        "model.add(LSTM(50,return_sequences=True,input_shape=(100,1)))\n",
        "model.add(LSTM(50,return_sequences=True))\n",
        "model.add(LSTM(50))\n",
        "model.add(Dense(1))\n",
        "model.compile(loss='mean_squared_error',optimizer='adam')"
      ],
      "execution_count": 28,
      "outputs": []
    },
    {
      "cell_type": "code",
      "metadata": {
        "id": "IjyA3PXDs1yv",
        "colab_type": "code",
        "colab": {
          "base_uri": "https://localhost:8080/",
          "height": 289
        },
        "outputId": "8aa4206a-7df5-4367-cf67-fa3ac7a6e7fd"
      },
      "source": [
        "model.summary()\n"
      ],
      "execution_count": 29,
      "outputs": [
        {
          "output_type": "stream",
          "text": [
            "Model: \"sequential\"\n",
            "_________________________________________________________________\n",
            "Layer (type)                 Output Shape              Param #   \n",
            "=================================================================\n",
            "lstm (LSTM)                  (None, 100, 50)           10400     \n",
            "_________________________________________________________________\n",
            "lstm_1 (LSTM)                (None, 100, 50)           20200     \n",
            "_________________________________________________________________\n",
            "lstm_2 (LSTM)                (None, 50)                20200     \n",
            "_________________________________________________________________\n",
            "dense (Dense)                (None, 1)                 51        \n",
            "=================================================================\n",
            "Total params: 50,851\n",
            "Trainable params: 50,851\n",
            "Non-trainable params: 0\n",
            "_________________________________________________________________\n"
          ],
          "name": "stdout"
        }
      ]
    },
    {
      "cell_type": "code",
      "metadata": {
        "id": "VdcfN_qfs7xT",
        "colab_type": "code",
        "colab": {
          "base_uri": "https://localhost:8080/",
          "height": 1000
        },
        "outputId": "8495106b-ccb3-4000-8bcf-e8666b3e4800"
      },
      "source": [
        "model.fit(X_train,y_train,validation_data=(X_test,ytest),epochs=100,batch_size=64,verbose=1)"
      ],
      "execution_count": 30,
      "outputs": [
        {
          "output_type": "stream",
          "text": [
            "Epoch 1/100\n",
            "12/12 [==============================] - 2s 174ms/step - loss: 0.0114 - val_loss: 0.0672\n",
            "Epoch 2/100\n",
            "12/12 [==============================] - 1s 76ms/step - loss: 0.0033 - val_loss: 0.0050\n",
            "Epoch 3/100\n",
            "12/12 [==============================] - 1s 76ms/step - loss: 9.1504e-04 - val_loss: 0.0039\n",
            "Epoch 4/100\n",
            "12/12 [==============================] - 1s 74ms/step - loss: 6.0465e-04 - val_loss: 0.0073\n",
            "Epoch 5/100\n",
            "12/12 [==============================] - 1s 74ms/step - loss: 4.5897e-04 - val_loss: 0.0088\n",
            "Epoch 6/100\n",
            "12/12 [==============================] - 1s 74ms/step - loss: 4.3269e-04 - val_loss: 0.0067\n",
            "Epoch 7/100\n",
            "12/12 [==============================] - 1s 74ms/step - loss: 4.0670e-04 - val_loss: 0.0051\n",
            "Epoch 8/100\n",
            "12/12 [==============================] - 1s 74ms/step - loss: 4.0215e-04 - val_loss: 0.0048\n",
            "Epoch 9/100\n",
            "12/12 [==============================] - 1s 75ms/step - loss: 3.8946e-04 - val_loss: 0.0050\n",
            "Epoch 10/100\n",
            "12/12 [==============================] - 1s 75ms/step - loss: 3.7880e-04 - val_loss: 0.0053\n",
            "Epoch 11/100\n",
            "12/12 [==============================] - 1s 76ms/step - loss: 3.8312e-04 - val_loss: 0.0048\n",
            "Epoch 12/100\n",
            "12/12 [==============================] - 1s 76ms/step - loss: 3.7908e-04 - val_loss: 0.0050\n",
            "Epoch 13/100\n",
            "12/12 [==============================] - 1s 76ms/step - loss: 3.6543e-04 - val_loss: 0.0040\n",
            "Epoch 14/100\n",
            "12/12 [==============================] - 1s 74ms/step - loss: 3.6565e-04 - val_loss: 0.0043\n",
            "Epoch 15/100\n",
            "12/12 [==============================] - 1s 76ms/step - loss: 3.7119e-04 - val_loss: 0.0029\n",
            "Epoch 16/100\n",
            "12/12 [==============================] - 1s 75ms/step - loss: 4.1299e-04 - val_loss: 0.0035\n",
            "Epoch 17/100\n",
            "12/12 [==============================] - 1s 74ms/step - loss: 3.4737e-04 - val_loss: 0.0038\n",
            "Epoch 18/100\n",
            "12/12 [==============================] - 1s 74ms/step - loss: 3.5202e-04 - val_loss: 0.0040\n",
            "Epoch 19/100\n",
            "12/12 [==============================] - 1s 75ms/step - loss: 3.3553e-04 - val_loss: 0.0041\n",
            "Epoch 20/100\n",
            "12/12 [==============================] - 1s 75ms/step - loss: 3.2954e-04 - val_loss: 0.0049\n",
            "Epoch 21/100\n",
            "12/12 [==============================] - 1s 74ms/step - loss: 3.5383e-04 - val_loss: 0.0028\n",
            "Epoch 22/100\n",
            "12/12 [==============================] - 1s 75ms/step - loss: 3.2873e-04 - val_loss: 0.0039\n",
            "Epoch 23/100\n",
            "12/12 [==============================] - 1s 74ms/step - loss: 3.2147e-04 - val_loss: 0.0028\n",
            "Epoch 24/100\n",
            "12/12 [==============================] - 1s 75ms/step - loss: 3.1182e-04 - val_loss: 0.0027\n",
            "Epoch 25/100\n",
            "12/12 [==============================] - 1s 74ms/step - loss: 3.1493e-04 - val_loss: 0.0027\n",
            "Epoch 26/100\n",
            "12/12 [==============================] - 1s 77ms/step - loss: 2.8785e-04 - val_loss: 0.0026\n",
            "Epoch 27/100\n",
            "12/12 [==============================] - 1s 74ms/step - loss: 3.0343e-04 - val_loss: 0.0031\n",
            "Epoch 28/100\n",
            "12/12 [==============================] - 1s 75ms/step - loss: 3.0155e-04 - val_loss: 0.0056\n",
            "Epoch 29/100\n",
            "12/12 [==============================] - 1s 75ms/step - loss: 3.2087e-04 - val_loss: 0.0027\n",
            "Epoch 30/100\n",
            "12/12 [==============================] - 1s 75ms/step - loss: 2.7110e-04 - val_loss: 0.0030\n",
            "Epoch 31/100\n",
            "12/12 [==============================] - 1s 74ms/step - loss: 2.7027e-04 - val_loss: 0.0031\n",
            "Epoch 32/100\n",
            "12/12 [==============================] - 1s 74ms/step - loss: 2.6744e-04 - val_loss: 0.0028\n",
            "Epoch 33/100\n",
            "12/12 [==============================] - 1s 73ms/step - loss: 2.5971e-04 - val_loss: 0.0029\n",
            "Epoch 34/100\n",
            "12/12 [==============================] - 1s 75ms/step - loss: 2.5194e-04 - val_loss: 0.0015\n",
            "Epoch 35/100\n",
            "12/12 [==============================] - 1s 75ms/step - loss: 3.7353e-04 - val_loss: 0.0058\n",
            "Epoch 36/100\n",
            "12/12 [==============================] - 1s 75ms/step - loss: 3.2088e-04 - val_loss: 0.0018\n",
            "Epoch 37/100\n",
            "12/12 [==============================] - 1s 74ms/step - loss: 2.5383e-04 - val_loss: 0.0017\n",
            "Epoch 38/100\n",
            "12/12 [==============================] - 1s 75ms/step - loss: 2.7012e-04 - val_loss: 0.0025\n",
            "Epoch 39/100\n",
            "12/12 [==============================] - 1s 75ms/step - loss: 2.4801e-04 - val_loss: 0.0031\n",
            "Epoch 40/100\n",
            "12/12 [==============================] - 1s 75ms/step - loss: 2.4797e-04 - val_loss: 0.0015\n",
            "Epoch 41/100\n",
            "12/12 [==============================] - 1s 75ms/step - loss: 2.4759e-04 - val_loss: 0.0027\n",
            "Epoch 42/100\n",
            "12/12 [==============================] - 1s 75ms/step - loss: 2.3172e-04 - val_loss: 0.0016\n",
            "Epoch 43/100\n",
            "12/12 [==============================] - 1s 74ms/step - loss: 2.1797e-04 - val_loss: 0.0019\n",
            "Epoch 44/100\n",
            "12/12 [==============================] - 1s 76ms/step - loss: 2.1807e-04 - val_loss: 0.0018\n",
            "Epoch 45/100\n",
            "12/12 [==============================] - 1s 75ms/step - loss: 2.2526e-04 - val_loss: 0.0017\n",
            "Epoch 46/100\n",
            "12/12 [==============================] - 1s 75ms/step - loss: 2.3130e-04 - val_loss: 0.0038\n",
            "Epoch 47/100\n",
            "12/12 [==============================] - 1s 78ms/step - loss: 2.8230e-04 - val_loss: 0.0016\n",
            "Epoch 48/100\n",
            "12/12 [==============================] - 1s 75ms/step - loss: 2.2191e-04 - val_loss: 0.0024\n",
            "Epoch 49/100\n",
            "12/12 [==============================] - 1s 74ms/step - loss: 2.0637e-04 - val_loss: 0.0016\n",
            "Epoch 50/100\n",
            "12/12 [==============================] - 1s 75ms/step - loss: 2.1536e-04 - val_loss: 0.0028\n",
            "Epoch 51/100\n",
            "12/12 [==============================] - 1s 76ms/step - loss: 2.0769e-04 - val_loss: 0.0021\n",
            "Epoch 52/100\n",
            "12/12 [==============================] - 1s 74ms/step - loss: 2.0423e-04 - val_loss: 0.0014\n",
            "Epoch 53/100\n",
            "12/12 [==============================] - 1s 74ms/step - loss: 2.3013e-04 - val_loss: 0.0032\n",
            "Epoch 54/100\n",
            "12/12 [==============================] - 1s 74ms/step - loss: 2.1116e-04 - val_loss: 0.0011\n",
            "Epoch 55/100\n",
            "12/12 [==============================] - 1s 74ms/step - loss: 2.2451e-04 - val_loss: 0.0023\n",
            "Epoch 56/100\n",
            "12/12 [==============================] - 1s 75ms/step - loss: 2.4290e-04 - val_loss: 0.0023\n",
            "Epoch 57/100\n",
            "12/12 [==============================] - 1s 75ms/step - loss: 2.1290e-04 - val_loss: 0.0016\n",
            "Epoch 58/100\n",
            "12/12 [==============================] - 1s 74ms/step - loss: 1.8435e-04 - val_loss: 0.0020\n",
            "Epoch 59/100\n",
            "12/12 [==============================] - 1s 75ms/step - loss: 2.1277e-04 - val_loss: 0.0017\n",
            "Epoch 60/100\n",
            "12/12 [==============================] - 1s 76ms/step - loss: 1.8363e-04 - val_loss: 0.0012\n",
            "Epoch 61/100\n",
            "12/12 [==============================] - 1s 75ms/step - loss: 1.8707e-04 - val_loss: 0.0022\n",
            "Epoch 62/100\n",
            "12/12 [==============================] - 1s 75ms/step - loss: 1.7103e-04 - val_loss: 0.0032\n",
            "Epoch 63/100\n",
            "12/12 [==============================] - 1s 75ms/step - loss: 2.3618e-04 - val_loss: 0.0014\n",
            "Epoch 64/100\n",
            "12/12 [==============================] - 1s 75ms/step - loss: 1.9568e-04 - val_loss: 0.0023\n",
            "Epoch 65/100\n",
            "12/12 [==============================] - 1s 75ms/step - loss: 1.6149e-04 - val_loss: 0.0021\n",
            "Epoch 66/100\n",
            "12/12 [==============================] - 1s 74ms/step - loss: 1.6488e-04 - val_loss: 0.0015\n",
            "Epoch 67/100\n",
            "12/12 [==============================] - 1s 74ms/step - loss: 1.5737e-04 - val_loss: 0.0023\n",
            "Epoch 68/100\n",
            "12/12 [==============================] - 1s 74ms/step - loss: 1.5494e-04 - val_loss: 0.0012\n",
            "Epoch 69/100\n",
            "12/12 [==============================] - 1s 75ms/step - loss: 1.7121e-04 - val_loss: 0.0031\n",
            "Epoch 70/100\n",
            "12/12 [==============================] - 1s 76ms/step - loss: 1.6909e-04 - val_loss: 0.0018\n",
            "Epoch 71/100\n",
            "12/12 [==============================] - 1s 76ms/step - loss: 1.5805e-04 - val_loss: 0.0014\n",
            "Epoch 72/100\n",
            "12/12 [==============================] - 1s 75ms/step - loss: 1.6073e-04 - val_loss: 0.0017\n",
            "Epoch 73/100\n",
            "12/12 [==============================] - 1s 74ms/step - loss: 1.6260e-04 - val_loss: 0.0012\n",
            "Epoch 74/100\n",
            "12/12 [==============================] - 1s 76ms/step - loss: 1.4900e-04 - val_loss: 0.0016\n",
            "Epoch 75/100\n",
            "12/12 [==============================] - 1s 73ms/step - loss: 1.3969e-04 - val_loss: 0.0012\n",
            "Epoch 76/100\n",
            "12/12 [==============================] - 1s 74ms/step - loss: 1.3383e-04 - val_loss: 0.0011\n",
            "Epoch 77/100\n",
            "12/12 [==============================] - 1s 75ms/step - loss: 1.3877e-04 - val_loss: 0.0014\n",
            "Epoch 78/100\n",
            "12/12 [==============================] - 1s 74ms/step - loss: 1.2931e-04 - val_loss: 0.0017\n",
            "Epoch 79/100\n",
            "12/12 [==============================] - 1s 75ms/step - loss: 1.3179e-04 - val_loss: 0.0012\n",
            "Epoch 80/100\n",
            "12/12 [==============================] - 1s 73ms/step - loss: 1.2524e-04 - val_loss: 0.0012\n",
            "Epoch 81/100\n",
            "12/12 [==============================] - 1s 75ms/step - loss: 1.2836e-04 - val_loss: 0.0019\n",
            "Epoch 82/100\n",
            "12/12 [==============================] - 1s 75ms/step - loss: 1.2824e-04 - val_loss: 0.0010\n",
            "Epoch 83/100\n",
            "12/12 [==============================] - 1s 74ms/step - loss: 1.2420e-04 - val_loss: 0.0013\n",
            "Epoch 84/100\n",
            "12/12 [==============================] - 1s 74ms/step - loss: 1.2161e-04 - val_loss: 0.0018\n",
            "Epoch 85/100\n",
            "12/12 [==============================] - 1s 73ms/step - loss: 1.2073e-04 - val_loss: 0.0011\n",
            "Epoch 86/100\n",
            "12/12 [==============================] - 1s 74ms/step - loss: 1.1152e-04 - val_loss: 0.0012\n",
            "Epoch 87/100\n",
            "12/12 [==============================] - 1s 75ms/step - loss: 1.0883e-04 - val_loss: 0.0011\n",
            "Epoch 88/100\n",
            "12/12 [==============================] - 1s 75ms/step - loss: 1.0957e-04 - val_loss: 9.1295e-04\n",
            "Epoch 89/100\n",
            "12/12 [==============================] - 1s 73ms/step - loss: 1.1177e-04 - val_loss: 0.0023\n",
            "Epoch 90/100\n",
            "12/12 [==============================] - 1s 75ms/step - loss: 1.1721e-04 - val_loss: 0.0011\n",
            "Epoch 91/100\n",
            "12/12 [==============================] - 1s 77ms/step - loss: 1.0860e-04 - val_loss: 9.2051e-04\n",
            "Epoch 92/100\n",
            "12/12 [==============================] - 1s 75ms/step - loss: 1.1250e-04 - val_loss: 8.3008e-04\n",
            "Epoch 93/100\n",
            "12/12 [==============================] - 1s 75ms/step - loss: 1.5399e-04 - val_loss: 0.0011\n",
            "Epoch 94/100\n",
            "12/12 [==============================] - 1s 75ms/step - loss: 1.3275e-04 - val_loss: 0.0016\n",
            "Epoch 95/100\n",
            "12/12 [==============================] - 1s 74ms/step - loss: 1.0485e-04 - val_loss: 0.0012\n",
            "Epoch 96/100\n",
            "12/12 [==============================] - 1s 75ms/step - loss: 9.8894e-05 - val_loss: 0.0013\n",
            "Epoch 97/100\n",
            "12/12 [==============================] - 1s 76ms/step - loss: 9.7377e-05 - val_loss: 0.0011\n",
            "Epoch 98/100\n",
            "12/12 [==============================] - 1s 76ms/step - loss: 9.6261e-05 - val_loss: 0.0012\n",
            "Epoch 99/100\n",
            "12/12 [==============================] - 1s 74ms/step - loss: 9.6447e-05 - val_loss: 0.0015\n",
            "Epoch 100/100\n",
            "12/12 [==============================] - 1s 76ms/step - loss: 1.0472e-04 - val_loss: 0.0011\n"
          ],
          "name": "stdout"
        },
        {
          "output_type": "execute_result",
          "data": {
            "text/plain": [
              "<tensorflow.python.keras.callbacks.History at 0x7fbfab3300f0>"
            ]
          },
          "metadata": {
            "tags": []
          },
          "execution_count": 30
        }
      ]
    },
    {
      "cell_type": "code",
      "metadata": {
        "id": "c16OB6_0tJRU",
        "colab_type": "code",
        "colab": {}
      },
      "source": [
        "import tensorflow as tf"
      ],
      "execution_count": 31,
      "outputs": []
    },
    {
      "cell_type": "code",
      "metadata": {
        "id": "hrNoiao9ty8q",
        "colab_type": "code",
        "colab": {
          "base_uri": "https://localhost:8080/",
          "height": 35
        },
        "outputId": "8cfef231-d56f-4e95-c3e8-3d0eb979192d"
      },
      "source": [
        "tf.__version__\n"
      ],
      "execution_count": 32,
      "outputs": [
        {
          "output_type": "execute_result",
          "data": {
            "application/vnd.google.colaboratory.intrinsic+json": {
              "type": "string"
            },
            "text/plain": [
              "'2.2.0'"
            ]
          },
          "metadata": {
            "tags": []
          },
          "execution_count": 32
        }
      ]
    },
    {
      "cell_type": "code",
      "metadata": {
        "id": "u6mh9zu8t28l",
        "colab_type": "code",
        "colab": {}
      },
      "source": [
        "### Lets Do the prediction and check performance metrics\n",
        "train_predict=model.predict(X_train)\n",
        "test_predict=model.predict(X_test)\n"
      ],
      "execution_count": 33,
      "outputs": []
    },
    {
      "cell_type": "code",
      "metadata": {
        "id": "xN85kk6ct94x",
        "colab_type": "code",
        "colab": {}
      },
      "source": [
        "##Transformback to original form\n",
        "train_predict=scaler.inverse_transform(train_predict)\n",
        "test_predict=scaler.inverse_transform(test_predict)"
      ],
      "execution_count": 34,
      "outputs": []
    },
    {
      "cell_type": "code",
      "metadata": {
        "id": "y39DYPHIuCOd",
        "colab_type": "code",
        "colab": {
          "base_uri": "https://localhost:8080/",
          "height": 34
        },
        "outputId": "f58df6fd-e95e-4cb4-9457-5af563f061a4"
      },
      "source": [
        "### Calculate RMSE performance metrics\n",
        "import math\n",
        "from sklearn.metrics import mean_squared_error\n",
        "math.sqrt(mean_squared_error(y_train,train_predict))"
      ],
      "execution_count": 35,
      "outputs": [
        {
          "output_type": "execute_result",
          "data": {
            "text/plain": [
              "149.74493334694472"
            ]
          },
          "metadata": {
            "tags": []
          },
          "execution_count": 35
        }
      ]
    },
    {
      "cell_type": "code",
      "metadata": {
        "id": "K_5Fl5VOuFqQ",
        "colab_type": "code",
        "colab": {
          "base_uri": "https://localhost:8080/",
          "height": 34
        },
        "outputId": "373ebbf4-3670-46ed-812f-d128a1c3b05e"
      },
      "source": [
        "### Test Data RMSE\n",
        "math.sqrt(mean_squared_error(ytest,test_predict))\n"
      ],
      "execution_count": 36,
      "outputs": [
        {
          "output_type": "execute_result",
          "data": {
            "text/plain": [
              "258.8795928790335"
            ]
          },
          "metadata": {
            "tags": []
          },
          "execution_count": 36
        }
      ]
    },
    {
      "cell_type": "code",
      "metadata": {
        "id": "pEcbQ13juLHu",
        "colab_type": "code",
        "colab": {
          "base_uri": "https://localhost:8080/",
          "height": 265
        },
        "outputId": "a44686b3-e5b2-4030-a585-08b784a93f83"
      },
      "source": [
        "### Plotting \n",
        "# shift train predictions for plotting\n",
        "look_back=100\n",
        "trainPredictPlot = numpy.empty_like(df1)\n",
        "trainPredictPlot[:, :] = np.nan\n",
        "trainPredictPlot[look_back:len(train_predict)+look_back, :] = train_predict\n",
        "# shift test predictions for plotting\n",
        "testPredictPlot = numpy.empty_like(df1)\n",
        "testPredictPlot[:, :] = numpy.nan\n",
        "testPredictPlot[len(train_predict)+(look_back*2)+1:len(df1)-1, :] = test_predict\n",
        "# plot baseline and predictions\n",
        "plt.plot(scaler.inverse_transform(df1))\n",
        "plt.plot(trainPredictPlot)\n",
        "plt.plot(testPredictPlot)\n",
        "plt.show()"
      ],
      "execution_count": 37,
      "outputs": [
        {
          "output_type": "display_data",
          "data": {
            "image/png": "[encoded data removed]",
            "text/plain": [
              "<Figure size 432x288 with 1 Axes>"
            ]
          },
          "metadata": {
            "tags": [],
            "needs_background": "light"
          }
        }
      ]
    },
    {
      "cell_type": "code",
      "metadata": {
        "id": "H0z_B3TeuXuS",
        "colab_type": "code",
        "colab": {
          "base_uri": "https://localhost:8080/",
          "height": 34
        },
        "outputId": "17f85b24-aaaf-4c7c-80f2-9f2771b4b4cd"
      },
      "source": [
        "len(test_data)\n"
      ],
      "execution_count": 38,
      "outputs": [
        {
          "output_type": "execute_result",
          "data": {
            "text/plain": [
              "440"
            ]
          },
          "metadata": {
            "tags": []
          },
          "execution_count": 38
        }
      ]
    },
    {
      "cell_type": "code",
      "metadata": {
        "id": "hMpyv407ue6M",
        "colab_type": "code",
        "colab": {
          "base_uri": "https://localhost:8080/",
          "height": 34
        },
        "outputId": "49b1b1b3-71ca-4efb-8ec2-3c8bdb543a88"
      },
      "source": [
        "x_input=test_data[341:].reshape(1,-1)\n",
        "x_input.shape"
      ],
      "execution_count": 39,
      "outputs": [
        {
          "output_type": "execute_result",
          "data": {
            "text/plain": [
              "(1, 99)"
            ]
          },
          "metadata": {
            "tags": []
          },
          "execution_count": 39
        }
      ]
    },
    {
      "cell_type": "code",
      "metadata": {
        "id": "5OSJF8n5ukhR",
        "colab_type": "code",
        "colab": {}
      },
      "source": [
        "temp_input=list(x_input)\n",
        "temp_input=temp_input[0].tolist()"
      ],
      "execution_count": 40,
      "outputs": []
    },
    {
      "cell_type": "code",
      "metadata": {
        "id": "EAB_Dwsruogi",
        "colab_type": "code",
        "colab": {
          "base_uri": "https://localhost:8080/",
          "height": 1000
        },
        "outputId": "ed858ab6-fe8f-4f19-a222-6dc3e4265e45"
      },
      "source": [
        "temp_input"
      ],
      "execution_count": 41,
      "outputs": [
        {
          "output_type": "execute_result",
          "data": {
            "text/plain": [
              "[0.6433732554686725,\n",
              " 0.6106766966907519,\n",
              " 0.5209343759279421,\n",
              " 0.619057045761985,\n",
              " 0.5010722887591145,\n",
              " 0.5362103665577881,\n",
              " 0.5157873898841927,\n",
              " 0.5095516183311887,\n",
              " 0.45827971889537766,\n",
              " 0.442211884258801,\n",
              " 0.5164802533900821,\n",
              " 0.5119931373519416,\n",
              " 0.5546207397142763,\n",
              " 0.5193176944142004,\n",
              " 0.5426440991124748,\n",
              " 0.5409284370978916,\n",
              " 0.4967831337226566,\n",
              " 0.5100465208353954,\n",
              " 0.49843280873667883,\n",
              " 0.5679171203272956,\n",
              " 0.5578870962420404,\n",
              " 0.5797947804282556,\n",
              " 0.586129532482101,\n",
              " 0.603484113629615,\n",
              " 0.6490151440166287,\n",
              " 0.6403708469431522,\n",
              " 0.6478273780065327,\n",
              " 0.6349929063974397,\n",
              " 0.6156257217328186,\n",
              " 0.5873832854927579,\n",
              " 0.6128872612095417,\n",
              " 0.609356956679534,\n",
              " 0.6355537959022073,\n",
              " 0.6362136659078161,\n",
              " 0.6210696492790919,\n",
              " 0.651258702035699,\n",
              " 0.6712857567059289,\n",
              " 0.6556798310732785,\n",
              " 0.6691741726879805,\n",
              " 0.6836913128113761,\n",
              " 0.6938203173974726,\n",
              " 0.704081295984691,\n",
              " 0.7251641426638952,\n",
              " 0.7412649708007523,\n",
              " 0.7293873106997922,\n",
              " 0.7169817545943448,\n",
              " 0.7232175261473489,\n",
              " 0.7171797155960274,\n",
              " 0.7411000032993499,\n",
              " 0.7350951862483089,\n",
              " 0.7551882279190999,\n",
              " 0.747335774852354,\n",
              " 0.7540664489095646,\n",
              " 0.7469398528489887,\n",
              " 0.75149295588769,\n",
              " 0.7519548648916162,\n",
              " 0.7509320663829225,\n",
              " 0.7638325249925765,\n",
              " 0.7687485565343627,\n",
              " 0.7746213995842818,\n",
              " 0.7653832195057574,\n",
              " 0.7956712527632056,\n",
              " 0.8021379788181727,\n",
              " 0.8368801346134812,\n",
              " 0.8660793823616747,\n",
              " 0.8101883928866013,\n",
              " 0.8197565079679302,\n",
              " 0.8335807845854367,\n",
              " 0.8635718763403609,\n",
              " 0.861955194826619,\n",
              " 0.8624171038305454,\n",
              " 0.8557854102741761,\n",
              " 0.885974463030783,\n",
              " 0.9112474842456034,\n",
              " 0.8899006895641558,\n",
              " 0.9056715826982084,\n",
              " 0.8686858688838298,\n",
              " 0.8955755716123922,\n",
              " 0.9055396086970867,\n",
              " 0.9032630571777359,\n",
              " 0.9032630571777359,\n",
              " 0.9353987264508893,\n",
              " 0.9315714804183576,\n",
              " 0.9602098386617836,\n",
              " 0.9656207727077765,\n",
              " 0.9678313372265664,\n",
              " 0.9619914876769277,\n",
              " 0.9828433798541688,\n",
              " 0.9916526444290473,\n",
              " 0.9757827707941534,\n",
              " 0.9732092777722788,\n",
              " 0.9999999999999999,\n",
              " 0.9820845293477184,\n",
              " 0.9856808208782869,\n",
              " 0.9272493318816192,\n",
              " 0.9242139298558182,\n",
              " 0.9531822231020489,\n",
              " 0.9326272724273318,\n",
              " 0.9562176251278499]"
            ]
          },
          "metadata": {
            "tags": []
          },
          "execution_count": 41
        }
      ]
    },
    {
      "cell_type": "code",
      "metadata": {
        "id": "xEbE3aHMu8aC",
        "colab_type": "code",
        "colab": {
          "base_uri": "https://localhost:8080/",
          "height": 1000
        },
        "outputId": "8cd5f0d5-ca6e-458c-8718-b042209111c7"
      },
      "source": [
        "# demonstrate prediction for next 10 days\n",
        "from numpy import array\n",
        "\n",
        "lst_output=[]\n",
        "n_steps=100\n",
        "i=0\n",
        "while(i<30):\n",
        "    \n",
        "    if(len(temp_input)>99):\n",
        "        #print(temp_input)\n",
        "        x_input=np.array(temp_input[1:])\n",
        "        print(\"{} day input {}\".format(i,x_input))\n",
        "        x_input=x_input.reshape(1,-1)\n",
        "        x_input = x_input.reshape((1, n_steps, 1))\n",
        "        #print(x_input)\n",
        "        yhat = model.predict(x_input, verbose=0)\n",
        "        print(\"{} day output {}\".format(i,yhat))\n",
        "        temp_input.extend(yhat[0].tolist())\n",
        "        temp_input=temp_input[1:]\n",
        "        #print(temp_input)\n",
        "        lst_output.extend(yhat.tolist())\n",
        "        i=i+1\n",
        "    else:\n",
        "        x_input = x_input.reshape((1, n_steps,1))\n",
        "        yhat = model.predict(x_input, verbose=0)\n",
        "        print(yhat[0])\n",
        "        temp_input.extend(yhat[0].tolist())\n",
        "        print(len(temp_input))\n",
        "        lst_output.extend(yhat.tolist())\n",
        "        i=i+1\n",
        "    \n",
        "\n",
        "print(lst_output)"
      ],
      "execution_count": 62,
      "outputs": [
        {
          "output_type": "stream",
          "text": [
            "0 day input [0.78465068 0.78000951 0.77477425 0.76910037 0.76320255 0.75730175\n",
            " 0.751589   0.74620056 0.7412107  0.73663455 0.73244053 0.7285651\n",
            " 0.72493029 0.7214576  0.71807915 0.71474421 0.71142119 0.70809746\n",
            " 0.70477456 0.70146507 0.69818568 0.69495469 0.69178766 0.68869537\n",
            " 0.68568343 0.68275219 0.67989767 0.67711347 0.67439127 0.67172337\n",
            " 0.66910237 0.66652274 0.66398072 0.66147423 0.65900236 0.65656579\n",
            " 0.65416527 0.65180212 0.64947718 0.64719093 0.64494354 0.64273447\n",
            " 0.64056307 0.63842803 0.63632828 0.63426214 0.63222849 0.63022619\n",
            " 0.62825406 0.62631142 0.62439758 0.62251198 0.62065405 0.61882359\n",
            " 0.61701995 0.61524284 0.61349171 0.61176616 0.61006564 0.6083895\n",
            " 0.6067372  0.60510832 0.60350209 0.60191804 0.6003558  0.59881479\n",
            " 0.59729451 0.59579462 0.59431452 0.59285414 0.59141272 0.58999014\n",
            " 0.58858597 0.58719987 0.58583134 0.58448035 0.58314621 0.58182871\n",
            " 0.58052772 0.57924265 0.57797337 0.57671946 0.5754807  0.57425684\n",
            " 0.5730474  0.57185233 0.5706715  0.5695042  0.56835067 0.56721032\n",
            " 0.56608307 0.56496876 0.56386703 0.5627777  0.5617007  0.56063563\n",
            " 0.55958241 0.55854076 0.55751044 0.55649132]\n",
            "0 day output [[0.5554834]]\n",
            "1 day input [0.78000951 0.77477425 0.76910037 0.76320255 0.75730175 0.751589\n",
            " 0.74620056 0.7412107  0.73663455 0.73244053 0.7285651  0.72493029\n",
            " 0.7214576  0.71807915 0.71474421 0.71142119 0.70809746 0.70477456\n",
            " 0.70146507 0.69818568 0.69495469 0.69178766 0.68869537 0.68568343\n",
            " 0.68275219 0.67989767 0.67711347 0.67439127 0.67172337 0.66910237\n",
            " 0.66652274 0.66398072 0.66147423 0.65900236 0.65656579 0.65416527\n",
            " 0.65180212 0.64947718 0.64719093 0.64494354 0.64273447 0.64056307\n",
            " 0.63842803 0.63632828 0.63426214 0.63222849 0.63022619 0.62825406\n",
            " 0.62631142 0.62439758 0.62251198 0.62065405 0.61882359 0.61701995\n",
            " 0.61524284 0.61349171 0.61176616 0.61006564 0.6083895  0.6067372\n",
            " 0.60510832 0.60350209 0.60191804 0.6003558  0.59881479 0.59729451\n",
            " 0.59579462 0.59431452 0.59285414 0.59141272 0.58999014 0.58858597\n",
            " 0.58719987 0.58583134 0.58448035 0.58314621 0.58182871 0.58052772\n",
            " 0.57924265 0.57797337 0.57671946 0.5754807  0.57425684 0.5730474\n",
            " 0.57185233 0.5706715  0.5695042  0.56835067 0.56721032 0.56608307\n",
            " 0.56496876 0.56386703 0.5627777  0.5617007  0.56063563 0.55958241\n",
            " 0.55854076 0.55751044 0.55649132 0.5554834 ]\n",
            "1 day output [[0.5544861]]\n",
            "2 day input [0.77477425 0.76910037 0.76320255 0.75730175 0.751589   0.74620056\n",
            " 0.7412107  0.73663455 0.73244053 0.7285651  0.72493029 0.7214576\n",
            " 0.71807915 0.71474421 0.71142119 0.70809746 0.70477456 0.70146507\n",
            " 0.69818568 0.69495469 0.69178766 0.68869537 0.68568343 0.68275219\n",
            " 0.67989767 0.67711347 0.67439127 0.67172337 0.66910237 0.66652274\n",
            " 0.66398072 0.66147423 0.65900236 0.65656579 0.65416527 0.65180212\n",
            " 0.64947718 0.64719093 0.64494354 0.64273447 0.64056307 0.63842803\n",
            " 0.63632828 0.63426214 0.63222849 0.63022619 0.62825406 0.62631142\n",
            " 0.62439758 0.62251198 0.62065405 0.61882359 0.61701995 0.61524284\n",
            " 0.61349171 0.61176616 0.61006564 0.6083895  0.6067372  0.60510832\n",
            " 0.60350209 0.60191804 0.6003558  0.59881479 0.59729451 0.59579462\n",
            " 0.59431452 0.59285414 0.59141272 0.58999014 0.58858597 0.58719987\n",
            " 0.58583134 0.58448035 0.58314621 0.58182871 0.58052772 0.57924265\n",
            " 0.57797337 0.57671946 0.5754807  0.57425684 0.5730474  0.57185233\n",
            " 0.5706715  0.5695042  0.56835067 0.56721032 0.56608307 0.56496876\n",
            " 0.56386703 0.5627777  0.5617007  0.56063563 0.55958241 0.55854076\n",
            " 0.55751044 0.55649132 0.5554834  0.5544861 ]\n",
            "2 day output [[0.5534996]]\n",
            "3 day input [0.76910037 0.76320255 0.75730175 0.751589   0.74620056 0.7412107\n",
            " 0.73663455 0.73244053 0.7285651  0.72493029 0.7214576  0.71807915\n",
            " 0.71474421 0.71142119 0.70809746 0.70477456 0.70146507 0.69818568\n",
            " 0.69495469 0.69178766 0.68869537 0.68568343 0.68275219 0.67989767\n",
            " 0.67711347 0.67439127 0.67172337 0.66910237 0.66652274 0.66398072\n",
            " 0.66147423 0.65900236 0.65656579 0.65416527 0.65180212 0.64947718\n",
            " 0.64719093 0.64494354 0.64273447 0.64056307 0.63842803 0.63632828\n",
            " 0.63426214 0.63222849 0.63022619 0.62825406 0.62631142 0.62439758\n",
            " 0.62251198 0.62065405 0.61882359 0.61701995 0.61524284 0.61349171\n",
            " 0.61176616 0.61006564 0.6083895  0.6067372  0.60510832 0.60350209\n",
            " 0.60191804 0.6003558  0.59881479 0.59729451 0.59579462 0.59431452\n",
            " 0.59285414 0.59141272 0.58999014 0.58858597 0.58719987 0.58583134\n",
            " 0.58448035 0.58314621 0.58182871 0.58052772 0.57924265 0.57797337\n",
            " 0.57671946 0.5754807  0.57425684 0.5730474  0.57185233 0.5706715\n",
            " 0.5695042  0.56835067 0.56721032 0.56608307 0.56496876 0.56386703\n",
            " 0.5627777  0.5617007  0.56063563 0.55958241 0.55854076 0.55751044\n",
            " 0.55649132 0.5554834  0.5544861  0.55349958]\n",
            "3 day output [[0.55252355]]\n",
            "4 day input [0.76320255 0.75730175 0.751589   0.74620056 0.7412107  0.73663455\n",
            " 0.73244053 0.7285651  0.72493029 0.7214576  0.71807915 0.71474421\n",
            " 0.71142119 0.70809746 0.70477456 0.70146507 0.69818568 0.69495469\n",
            " 0.69178766 0.68869537 0.68568343 0.68275219 0.67989767 0.67711347\n",
            " 0.67439127 0.67172337 0.66910237 0.66652274 0.66398072 0.66147423\n",
            " 0.65900236 0.65656579 0.65416527 0.65180212 0.64947718 0.64719093\n",
            " 0.64494354 0.64273447 0.64056307 0.63842803 0.63632828 0.63426214\n",
            " 0.63222849 0.63022619 0.62825406 0.62631142 0.62439758 0.62251198\n",
            " 0.62065405 0.61882359 0.61701995 0.61524284 0.61349171 0.61176616\n",
            " 0.61006564 0.6083895  0.6067372  0.60510832 0.60350209 0.60191804\n",
            " 0.6003558  0.59881479 0.59729451 0.59579462 0.59431452 0.59285414\n",
            " 0.59141272 0.58999014 0.58858597 0.58719987 0.58583134 0.58448035\n",
            " 0.58314621 0.58182871 0.58052772 0.57924265 0.57797337 0.57671946\n",
            " 0.5754807  0.57425684 0.5730474  0.57185233 0.5706715  0.5695042\n",
            " 0.56835067 0.56721032 0.56608307 0.56496876 0.56386703 0.5627777\n",
            " 0.5617007  0.56063563 0.55958241 0.55854076 0.55751044 0.55649132\n",
            " 0.5554834  0.5544861  0.55349958 0.55252355]\n",
            "4 day output [[0.5515578]]\n",
            "5 day input [0.75730175 0.751589   0.74620056 0.7412107  0.73663455 0.73244053\n",
            " 0.7285651  0.72493029 0.7214576  0.71807915 0.71474421 0.71142119\n",
            " 0.70809746 0.70477456 0.70146507 0.69818568 0.69495469 0.69178766\n",
            " 0.68869537 0.68568343 0.68275219 0.67989767 0.67711347 0.67439127\n",
            " 0.67172337 0.66910237 0.66652274 0.66398072 0.66147423 0.65900236\n",
            " 0.65656579 0.65416527 0.65180212 0.64947718 0.64719093 0.64494354\n",
            " 0.64273447 0.64056307 0.63842803 0.63632828 0.63426214 0.63222849\n",
            " 0.63022619 0.62825406 0.62631142 0.62439758 0.62251198 0.62065405\n",
            " 0.61882359 0.61701995 0.61524284 0.61349171 0.61176616 0.61006564\n",
            " 0.6083895  0.6067372  0.60510832 0.60350209 0.60191804 0.6003558\n",
            " 0.59881479 0.59729451 0.59579462 0.59431452 0.59285414 0.59141272\n",
            " 0.58999014 0.58858597 0.58719987 0.58583134 0.58448035 0.58314621\n",
            " 0.58182871 0.58052772 0.57924265 0.57797337 0.57671946 0.5754807\n",
            " 0.57425684 0.5730474  0.57185233 0.5706715  0.5695042  0.56835067\n",
            " 0.56721032 0.56608307 0.56496876 0.56386703 0.5627777  0.5617007\n",
            " 0.56063563 0.55958241 0.55854076 0.55751044 0.55649132 0.5554834\n",
            " 0.5544861  0.55349958 0.55252355 0.55155778]\n",
            "5 day output [[0.55060214]]\n",
            "6 day input [0.751589   0.74620056 0.7412107  0.73663455 0.73244053 0.7285651\n",
            " 0.72493029 0.7214576  0.71807915 0.71474421 0.71142119 0.70809746\n",
            " 0.70477456 0.70146507 0.69818568 0.69495469 0.69178766 0.68869537\n",
            " 0.68568343 0.68275219 0.67989767 0.67711347 0.67439127 0.67172337\n",
            " 0.66910237 0.66652274 0.66398072 0.66147423 0.65900236 0.65656579\n",
            " 0.65416527 0.65180212 0.64947718 0.64719093 0.64494354 0.64273447\n",
            " 0.64056307 0.63842803 0.63632828 0.63426214 0.63222849 0.63022619\n",
            " 0.62825406 0.62631142 0.62439758 0.62251198 0.62065405 0.61882359\n",
            " 0.61701995 0.61524284 0.61349171 0.61176616 0.61006564 0.6083895\n",
            " 0.6067372  0.60510832 0.60350209 0.60191804 0.6003558  0.59881479\n",
            " 0.59729451 0.59579462 0.59431452 0.59285414 0.59141272 0.58999014\n",
            " 0.58858597 0.58719987 0.58583134 0.58448035 0.58314621 0.58182871\n",
            " 0.58052772 0.57924265 0.57797337 0.57671946 0.5754807  0.57425684\n",
            " 0.5730474  0.57185233 0.5706715  0.5695042  0.56835067 0.56721032\n",
            " 0.56608307 0.56496876 0.56386703 0.5627777  0.5617007  0.56063563\n",
            " 0.55958241 0.55854076 0.55751044 0.55649132 0.5554834  0.5544861\n",
            " 0.55349958 0.55252355 0.55155778 0.55060214]\n",
            "6 day output [[0.5496566]]\n",
            "7 day input [0.74620056 0.7412107  0.73663455 0.73244053 0.7285651  0.72493029\n",
            " 0.7214576  0.71807915 0.71474421 0.71142119 0.70809746 0.70477456\n",
            " 0.70146507 0.69818568 0.69495469 0.69178766 0.68869537 0.68568343\n",
            " 0.68275219 0.67989767 0.67711347 0.67439127 0.67172337 0.66910237\n",
            " 0.66652274 0.66398072 0.66147423 0.65900236 0.65656579 0.65416527\n",
            " 0.65180212 0.64947718 0.64719093 0.64494354 0.64273447 0.64056307\n",
            " 0.63842803 0.63632828 0.63426214 0.63222849 0.63022619 0.62825406\n",
            " 0.62631142 0.62439758 0.62251198 0.62065405 0.61882359 0.61701995\n",
            " 0.61524284 0.61349171 0.61176616 0.61006564 0.6083895  0.6067372\n",
            " 0.60510832 0.60350209 0.60191804 0.6003558  0.59881479 0.59729451\n",
            " 0.59579462 0.59431452 0.59285414 0.59141272 0.58999014 0.58858597\n",
            " 0.58719987 0.58583134 0.58448035 0.58314621 0.58182871 0.58052772\n",
            " 0.57924265 0.57797337 0.57671946 0.5754807  0.57425684 0.5730474\n",
            " 0.57185233 0.5706715  0.5695042  0.56835067 0.56721032 0.56608307\n",
            " 0.56496876 0.56386703 0.5627777  0.5617007  0.56063563 0.55958241\n",
            " 0.55854076 0.55751044 0.55649132 0.5554834  0.5544861  0.55349958\n",
            " 0.55252355 0.55155778 0.55060214 0.54965663]\n",
            "7 day output [[0.5487209]]\n",
            "8 day input [0.7412107  0.73663455 0.73244053 0.7285651  0.72493029 0.7214576\n",
            " 0.71807915 0.71474421 0.71142119 0.70809746 0.70477456 0.70146507\n",
            " 0.69818568 0.69495469 0.69178766 0.68869537 0.68568343 0.68275219\n",
            " 0.67989767 0.67711347 0.67439127 0.67172337 0.66910237 0.66652274\n",
            " 0.66398072 0.66147423 0.65900236 0.65656579 0.65416527 0.65180212\n",
            " 0.64947718 0.64719093 0.64494354 0.64273447 0.64056307 0.63842803\n",
            " 0.63632828 0.63426214 0.63222849 0.63022619 0.62825406 0.62631142\n",
            " 0.62439758 0.62251198 0.62065405 0.61882359 0.61701995 0.61524284\n",
            " 0.61349171 0.61176616 0.61006564 0.6083895  0.6067372  0.60510832\n",
            " 0.60350209 0.60191804 0.6003558  0.59881479 0.59729451 0.59579462\n",
            " 0.59431452 0.59285414 0.59141272 0.58999014 0.58858597 0.58719987\n",
            " 0.58583134 0.58448035 0.58314621 0.58182871 0.58052772 0.57924265\n",
            " 0.57797337 0.57671946 0.5754807  0.57425684 0.5730474  0.57185233\n",
            " 0.5706715  0.5695042  0.56835067 0.56721032 0.56608307 0.56496876\n",
            " 0.56386703 0.5627777  0.5617007  0.56063563 0.55958241 0.55854076\n",
            " 0.55751044 0.55649132 0.5554834  0.5544861  0.55349958 0.55252355\n",
            " 0.55155778 0.55060214 0.54965663 0.5487209 ]\n",
            "8 day output [[0.5477949]]\n",
            "9 day input [0.73663455 0.73244053 0.7285651  0.72493029 0.7214576  0.71807915\n",
            " 0.71474421 0.71142119 0.70809746 0.70477456 0.70146507 0.69818568\n",
            " 0.69495469 0.69178766 0.68869537 0.68568343 0.68275219 0.67989767\n",
            " 0.67711347 0.67439127 0.67172337 0.66910237 0.66652274 0.66398072\n",
            " 0.66147423 0.65900236 0.65656579 0.65416527 0.65180212 0.64947718\n",
            " 0.64719093 0.64494354 0.64273447 0.64056307 0.63842803 0.63632828\n",
            " 0.63426214 0.63222849 0.63022619 0.62825406 0.62631142 0.62439758\n",
            " 0.62251198 0.62065405 0.61882359 0.61701995 0.61524284 0.61349171\n",
            " 0.61176616 0.61006564 0.6083895  0.6067372  0.60510832 0.60350209\n",
            " 0.60191804 0.6003558  0.59881479 0.59729451 0.59579462 0.59431452\n",
            " 0.59285414 0.59141272 0.58999014 0.58858597 0.58719987 0.58583134\n",
            " 0.58448035 0.58314621 0.58182871 0.58052772 0.57924265 0.57797337\n",
            " 0.57671946 0.5754807  0.57425684 0.5730474  0.57185233 0.5706715\n",
            " 0.5695042  0.56835067 0.56721032 0.56608307 0.56496876 0.56386703\n",
            " 0.5627777  0.5617007  0.56063563 0.55958241 0.55854076 0.55751044\n",
            " 0.55649132 0.5554834  0.5544861  0.55349958 0.55252355 0.55155778\n",
            " 0.55060214 0.54965663 0.5487209  0.54779488]\n",
            "9 day output [[0.5468784]]\n",
            "10 day input [0.73244053 0.7285651  0.72493029 0.7214576  0.71807915 0.71474421\n",
            " 0.71142119 0.70809746 0.70477456 0.70146507 0.69818568 0.69495469\n",
            " 0.69178766 0.68869537 0.68568343 0.68275219 0.67989767 0.67711347\n",
            " 0.67439127 0.67172337 0.66910237 0.66652274 0.66398072 0.66147423\n",
            " 0.65900236 0.65656579 0.65416527 0.65180212 0.64947718 0.64719093\n",
            " 0.64494354 0.64273447 0.64056307 0.63842803 0.63632828 0.63426214\n",
            " 0.63222849 0.63022619 0.62825406 0.62631142 0.62439758 0.62251198\n",
            " 0.62065405 0.61882359 0.61701995 0.61524284 0.61349171 0.61176616\n",
            " 0.61006564 0.6083895  0.6067372  0.60510832 0.60350209 0.60191804\n",
            " 0.6003558  0.59881479 0.59729451 0.59579462 0.59431452 0.59285414\n",
            " 0.59141272 0.58999014 0.58858597 0.58719987 0.58583134 0.58448035\n",
            " 0.58314621 0.58182871 0.58052772 0.57924265 0.57797337 0.57671946\n",
            " 0.5754807  0.57425684 0.5730474  0.57185233 0.5706715  0.5695042\n",
            " 0.56835067 0.56721032 0.56608307 0.56496876 0.56386703 0.5627777\n",
            " 0.5617007  0.56063563 0.55958241 0.55854076 0.55751044 0.55649132\n",
            " 0.5554834  0.5544861  0.55349958 0.55252355 0.55155778 0.55060214\n",
            " 0.54965663 0.5487209  0.54779488 0.5468784 ]\n",
            "10 day output [[0.54597133]]\n",
            "11 day input [0.7285651  0.72493029 0.7214576  0.71807915 0.71474421 0.71142119\n",
            " 0.70809746 0.70477456 0.70146507 0.69818568 0.69495469 0.69178766\n",
            " 0.68869537 0.68568343 0.68275219 0.67989767 0.67711347 0.67439127\n",
            " 0.67172337 0.66910237 0.66652274 0.66398072 0.66147423 0.65900236\n",
            " 0.65656579 0.65416527 0.65180212 0.64947718 0.64719093 0.64494354\n",
            " 0.64273447 0.64056307 0.63842803 0.63632828 0.63426214 0.63222849\n",
            " 0.63022619 0.62825406 0.62631142 0.62439758 0.62251198 0.62065405\n",
            " 0.61882359 0.61701995 0.61524284 0.61349171 0.61176616 0.61006564\n",
            " 0.6083895  0.6067372  0.60510832 0.60350209 0.60191804 0.6003558\n",
            " 0.59881479 0.59729451 0.59579462 0.59431452 0.59285414 0.59141272\n",
            " 0.58999014 0.58858597 0.58719987 0.58583134 0.58448035 0.58314621\n",
            " 0.58182871 0.58052772 0.57924265 0.57797337 0.57671946 0.5754807\n",
            " 0.57425684 0.5730474  0.57185233 0.5706715  0.5695042  0.56835067\n",
            " 0.56721032 0.56608307 0.56496876 0.56386703 0.5627777  0.5617007\n",
            " 0.56063563 0.55958241 0.55854076 0.55751044 0.55649132 0.5554834\n",
            " 0.5544861  0.55349958 0.55252355 0.55155778 0.55060214 0.54965663\n",
            " 0.5487209  0.54779488 0.5468784  0.54597133]\n",
            "11 day output [[0.5450735]]\n",
            "12 day input [0.72493029 0.7214576  0.71807915 0.71474421 0.71142119 0.70809746\n",
            " 0.70477456 0.70146507 0.69818568 0.69495469 0.69178766 0.68869537\n",
            " 0.68568343 0.68275219 0.67989767 0.67711347 0.67439127 0.67172337\n",
            " 0.66910237 0.66652274 0.66398072 0.66147423 0.65900236 0.65656579\n",
            " 0.65416527 0.65180212 0.64947718 0.64719093 0.64494354 0.64273447\n",
            " 0.64056307 0.63842803 0.63632828 0.63426214 0.63222849 0.63022619\n",
            " 0.62825406 0.62631142 0.62439758 0.62251198 0.62065405 0.61882359\n",
            " 0.61701995 0.61524284 0.61349171 0.61176616 0.61006564 0.6083895\n",
            " 0.6067372  0.60510832 0.60350209 0.60191804 0.6003558  0.59881479\n",
            " 0.59729451 0.59579462 0.59431452 0.59285414 0.59141272 0.58999014\n",
            " 0.58858597 0.58719987 0.58583134 0.58448035 0.58314621 0.58182871\n",
            " 0.58052772 0.57924265 0.57797337 0.57671946 0.5754807  0.57425684\n",
            " 0.5730474  0.57185233 0.5706715  0.5695042  0.56835067 0.56721032\n",
            " 0.56608307 0.56496876 0.56386703 0.5627777  0.5617007  0.56063563\n",
            " 0.55958241 0.55854076 0.55751044 0.55649132 0.5554834  0.5544861\n",
            " 0.55349958 0.55252355 0.55155778 0.55060214 0.54965663 0.5487209\n",
            " 0.54779488 0.5468784  0.54597133 0.54507351]\n",
            "12 day output [[0.54418474]]\n",
            "13 day input [0.7214576  0.71807915 0.71474421 0.71142119 0.70809746 0.70477456\n",
            " 0.70146507 0.69818568 0.69495469 0.69178766 0.68869537 0.68568343\n",
            " 0.68275219 0.67989767 0.67711347 0.67439127 0.67172337 0.66910237\n",
            " 0.66652274 0.66398072 0.66147423 0.65900236 0.65656579 0.65416527\n",
            " 0.65180212 0.64947718 0.64719093 0.64494354 0.64273447 0.64056307\n",
            " 0.63842803 0.63632828 0.63426214 0.63222849 0.63022619 0.62825406\n",
            " 0.62631142 0.62439758 0.62251198 0.62065405 0.61882359 0.61701995\n",
            " 0.61524284 0.61349171 0.61176616 0.61006564 0.6083895  0.6067372\n",
            " 0.60510832 0.60350209 0.60191804 0.6003558  0.59881479 0.59729451\n",
            " 0.59579462 0.59431452 0.59285414 0.59141272 0.58999014 0.58858597\n",
            " 0.58719987 0.58583134 0.58448035 0.58314621 0.58182871 0.58052772\n",
            " 0.57924265 0.57797337 0.57671946 0.5754807  0.57425684 0.5730474\n",
            " 0.57185233 0.5706715  0.5695042  0.56835067 0.56721032 0.56608307\n",
            " 0.56496876 0.56386703 0.5627777  0.5617007  0.56063563 0.55958241\n",
            " 0.55854076 0.55751044 0.55649132 0.5554834  0.5544861  0.55349958\n",
            " 0.55252355 0.55155778 0.55060214 0.54965663 0.5487209  0.54779488\n",
            " 0.5468784  0.54597133 0.54507351 0.54418474]\n",
            "13 day output [[0.543305]]\n",
            "14 day input [0.71807915 0.71474421 0.71142119 0.70809746 0.70477456 0.70146507\n",
            " 0.69818568 0.69495469 0.69178766 0.68869537 0.68568343 0.68275219\n",
            " 0.67989767 0.67711347 0.67439127 0.67172337 0.66910237 0.66652274\n",
            " 0.66398072 0.66147423 0.65900236 0.65656579 0.65416527 0.65180212\n",
            " 0.64947718 0.64719093 0.64494354 0.64273447 0.64056307 0.63842803\n",
            " 0.63632828 0.63426214 0.63222849 0.63022619 0.62825406 0.62631142\n",
            " 0.62439758 0.62251198 0.62065405 0.61882359 0.61701995 0.61524284\n",
            " 0.61349171 0.61176616 0.61006564 0.6083895  0.6067372  0.60510832\n",
            " 0.60350209 0.60191804 0.6003558  0.59881479 0.59729451 0.59579462\n",
            " 0.59431452 0.59285414 0.59141272 0.58999014 0.58858597 0.58719987\n",
            " 0.58583134 0.58448035 0.58314621 0.58182871 0.58052772 0.57924265\n",
            " 0.57797337 0.57671946 0.5754807  0.57425684 0.5730474  0.57185233\n",
            " 0.5706715  0.5695042  0.56835067 0.56721032 0.56608307 0.56496876\n",
            " 0.56386703 0.5627777  0.5617007  0.56063563 0.55958241 0.55854076\n",
            " 0.55751044 0.55649132 0.5554834  0.5544861  0.55349958 0.55252355\n",
            " 0.55155778 0.55060214 0.54965663 0.5487209  0.54779488 0.5468784\n",
            " 0.54597133 0.54507351 0.54418474 0.54330498]\n",
            "14 day output [[0.542434]]\n",
            "15 day input [0.71474421 0.71142119 0.70809746 0.70477456 0.70146507 0.69818568\n",
            " 0.69495469 0.69178766 0.68869537 0.68568343 0.68275219 0.67989767\n",
            " 0.67711347 0.67439127 0.67172337 0.66910237 0.66652274 0.66398072\n",
            " 0.66147423 0.65900236 0.65656579 0.65416527 0.65180212 0.64947718\n",
            " 0.64719093 0.64494354 0.64273447 0.64056307 0.63842803 0.63632828\n",
            " 0.63426214 0.63222849 0.63022619 0.62825406 0.62631142 0.62439758\n",
            " 0.62251198 0.62065405 0.61882359 0.61701995 0.61524284 0.61349171\n",
            " 0.61176616 0.61006564 0.6083895  0.6067372  0.60510832 0.60350209\n",
            " 0.60191804 0.6003558  0.59881479 0.59729451 0.59579462 0.59431452\n",
            " 0.59285414 0.59141272 0.58999014 0.58858597 0.58719987 0.58583134\n",
            " 0.58448035 0.58314621 0.58182871 0.58052772 0.57924265 0.57797337\n",
            " 0.57671946 0.5754807  0.57425684 0.5730474  0.57185233 0.5706715\n",
            " 0.5695042  0.56835067 0.56721032 0.56608307 0.56496876 0.56386703\n",
            " 0.5627777  0.5617007  0.56063563 0.55958241 0.55854076 0.55751044\n",
            " 0.55649132 0.5554834  0.5544861  0.55349958 0.55252355 0.55155778\n",
            " 0.55060214 0.54965663 0.5487209  0.54779488 0.5468784  0.54597133\n",
            " 0.54507351 0.54418474 0.54330498 0.54243398]\n",
            "15 day output [[0.54157174]]\n",
            "16 day input [0.71142119 0.70809746 0.70477456 0.70146507 0.69818568 0.69495469\n",
            " 0.69178766 0.68869537 0.68568343 0.68275219 0.67989767 0.67711347\n",
            " 0.67439127 0.67172337 0.66910237 0.66652274 0.66398072 0.66147423\n",
            " 0.65900236 0.65656579 0.65416527 0.65180212 0.64947718 0.64719093\n",
            " 0.64494354 0.64273447 0.64056307 0.63842803 0.63632828 0.63426214\n",
            " 0.63222849 0.63022619 0.62825406 0.62631142 0.62439758 0.62251198\n",
            " 0.62065405 0.61882359 0.61701995 0.61524284 0.61349171 0.61176616\n",
            " 0.61006564 0.6083895  0.6067372  0.60510832 0.60350209 0.60191804\n",
            " 0.6003558  0.59881479 0.59729451 0.59579462 0.59431452 0.59285414\n",
            " 0.59141272 0.58999014 0.58858597 0.58719987 0.58583134 0.58448035\n",
            " 0.58314621 0.58182871 0.58052772 0.57924265 0.57797337 0.57671946\n",
            " 0.5754807  0.57425684 0.5730474  0.57185233 0.5706715  0.5695042\n",
            " 0.56835067 0.56721032 0.56608307 0.56496876 0.56386703 0.5627777\n",
            " 0.5617007  0.56063563 0.55958241 0.55854076 0.55751044 0.55649132\n",
            " 0.5554834  0.5544861  0.55349958 0.55252355 0.55155778 0.55060214\n",
            " 0.54965663 0.5487209  0.54779488 0.5468784  0.54597133 0.54507351\n",
            " 0.54418474 0.54330498 0.54243398 0.54157174]\n",
            "16 day output [[0.54071796]]\n",
            "17 day input [0.70809746 0.70477456 0.70146507 0.69818568 0.69495469 0.69178766\n",
            " 0.68869537 0.68568343 0.68275219 0.67989767 0.67711347 0.67439127\n",
            " 0.67172337 0.66910237 0.66652274 0.66398072 0.66147423 0.65900236\n",
            " 0.65656579 0.65416527 0.65180212 0.64947718 0.64719093 0.64494354\n",
            " 0.64273447 0.64056307 0.63842803 0.63632828 0.63426214 0.63222849\n",
            " 0.63022619 0.62825406 0.62631142 0.62439758 0.62251198 0.62065405\n",
            " 0.61882359 0.61701995 0.61524284 0.61349171 0.61176616 0.61006564\n",
            " 0.6083895  0.6067372  0.60510832 0.60350209 0.60191804 0.6003558\n",
            " 0.59881479 0.59729451 0.59579462 0.59431452 0.59285414 0.59141272\n",
            " 0.58999014 0.58858597 0.58719987 0.58583134 0.58448035 0.58314621\n",
            " 0.58182871 0.58052772 0.57924265 0.57797337 0.57671946 0.5754807\n",
            " 0.57425684 0.5730474  0.57185233 0.5706715  0.5695042  0.56835067\n",
            " 0.56721032 0.56608307 0.56496876 0.56386703 0.5627777  0.5617007\n",
            " 0.56063563 0.55958241 0.55854076 0.55751044 0.55649132 0.5554834\n",
            " 0.5544861  0.55349958 0.55252355 0.55155778 0.55060214 0.54965663\n",
            " 0.5487209  0.54779488 0.5468784  0.54597133 0.54507351 0.54418474\n",
            " 0.54330498 0.54243398 0.54157174 0.54071796]\n",
            "17 day output [[0.5398727]]\n",
            "18 day input [0.70477456 0.70146507 0.69818568 0.69495469 0.69178766 0.68869537\n",
            " 0.68568343 0.68275219 0.67989767 0.67711347 0.67439127 0.67172337\n",
            " 0.66910237 0.66652274 0.66398072 0.66147423 0.65900236 0.65656579\n",
            " 0.65416527 0.65180212 0.64947718 0.64719093 0.64494354 0.64273447\n",
            " 0.64056307 0.63842803 0.63632828 0.63426214 0.63222849 0.63022619\n",
            " 0.62825406 0.62631142 0.62439758 0.62251198 0.62065405 0.61882359\n",
            " 0.61701995 0.61524284 0.61349171 0.61176616 0.61006564 0.6083895\n",
            " 0.6067372  0.60510832 0.60350209 0.60191804 0.6003558  0.59881479\n",
            " 0.59729451 0.59579462 0.59431452 0.59285414 0.59141272 0.58999014\n",
            " 0.58858597 0.58719987 0.58583134 0.58448035 0.58314621 0.58182871\n",
            " 0.58052772 0.57924265 0.57797337 0.57671946 0.5754807  0.57425684\n",
            " 0.5730474  0.57185233 0.5706715  0.5695042  0.56835067 0.56721032\n",
            " 0.56608307 0.56496876 0.56386703 0.5627777  0.5617007  0.56063563\n",
            " 0.55958241 0.55854076 0.55751044 0.55649132 0.5554834  0.5544861\n",
            " 0.55349958 0.55252355 0.55155778 0.55060214 0.54965663 0.5487209\n",
            " 0.54779488 0.5468784  0.54597133 0.54507351 0.54418474 0.54330498\n",
            " 0.54243398 0.54157174 0.54071796 0.53987271]\n",
            "18 day output [[0.5390357]]\n",
            "19 day input [0.70146507 0.69818568 0.69495469 0.69178766 0.68869537 0.68568343\n",
            " 0.68275219 0.67989767 0.67711347 0.67439127 0.67172337 0.66910237\n",
            " 0.66652274 0.66398072 0.66147423 0.65900236 0.65656579 0.65416527\n",
            " 0.65180212 0.64947718 0.64719093 0.64494354 0.64273447 0.64056307\n",
            " 0.63842803 0.63632828 0.63426214 0.63222849 0.63022619 0.62825406\n",
            " 0.62631142 0.62439758 0.62251198 0.62065405 0.61882359 0.61701995\n",
            " 0.61524284 0.61349171 0.61176616 0.61006564 0.6083895  0.6067372\n",
            " 0.60510832 0.60350209 0.60191804 0.6003558  0.59881479 0.59729451\n",
            " 0.59579462 0.59431452 0.59285414 0.59141272 0.58999014 0.58858597\n",
            " 0.58719987 0.58583134 0.58448035 0.58314621 0.58182871 0.58052772\n",
            " 0.57924265 0.57797337 0.57671946 0.5754807  0.57425684 0.5730474\n",
            " 0.57185233 0.5706715  0.5695042  0.56835067 0.56721032 0.56608307\n",
            " 0.56496876 0.56386703 0.5627777  0.5617007  0.56063563 0.55958241\n",
            " 0.55854076 0.55751044 0.55649132 0.5554834  0.5544861  0.55349958\n",
            " 0.55252355 0.55155778 0.55060214 0.54965663 0.5487209  0.54779488\n",
            " 0.5468784  0.54597133 0.54507351 0.54418474 0.54330498 0.54243398\n",
            " 0.54157174 0.54071796 0.53987271 0.53903568]\n",
            "19 day output [[0.5382069]]\n",
            "20 day input [0.69818568 0.69495469 0.69178766 0.68869537 0.68568343 0.68275219\n",
            " 0.67989767 0.67711347 0.67439127 0.67172337 0.66910237 0.66652274\n",
            " 0.66398072 0.66147423 0.65900236 0.65656579 0.65416527 0.65180212\n",
            " 0.64947718 0.64719093 0.64494354 0.64273447 0.64056307 0.63842803\n",
            " 0.63632828 0.63426214 0.63222849 0.63022619 0.62825406 0.62631142\n",
            " 0.62439758 0.62251198 0.62065405 0.61882359 0.61701995 0.61524284\n",
            " 0.61349171 0.61176616 0.61006564 0.6083895  0.6067372  0.60510832\n",
            " 0.60350209 0.60191804 0.6003558  0.59881479 0.59729451 0.59579462\n",
            " 0.59431452 0.59285414 0.59141272 0.58999014 0.58858597 0.58719987\n",
            " 0.58583134 0.58448035 0.58314621 0.58182871 0.58052772 0.57924265\n",
            " 0.57797337 0.57671946 0.5754807  0.57425684 0.5730474  0.57185233\n",
            " 0.5706715  0.5695042  0.56835067 0.56721032 0.56608307 0.56496876\n",
            " 0.56386703 0.5627777  0.5617007  0.56063563 0.55958241 0.55854076\n",
            " 0.55751044 0.55649132 0.5554834  0.5544861  0.55349958 0.55252355\n",
            " 0.55155778 0.55060214 0.54965663 0.5487209  0.54779488 0.5468784\n",
            " 0.54597133 0.54507351 0.54418474 0.54330498 0.54243398 0.54157174\n",
            " 0.54071796 0.53987271 0.53903568 0.53820688]\n",
            "20 day output [[0.5373861]]\n",
            "21 day input [0.69495469 0.69178766 0.68869537 0.68568343 0.68275219 0.67989767\n",
            " 0.67711347 0.67439127 0.67172337 0.66910237 0.66652274 0.66398072\n",
            " 0.66147423 0.65900236 0.65656579 0.65416527 0.65180212 0.64947718\n",
            " 0.64719093 0.64494354 0.64273447 0.64056307 0.63842803 0.63632828\n",
            " 0.63426214 0.63222849 0.63022619 0.62825406 0.62631142 0.62439758\n",
            " 0.62251198 0.62065405 0.61882359 0.61701995 0.61524284 0.61349171\n",
            " 0.61176616 0.61006564 0.6083895  0.6067372  0.60510832 0.60350209\n",
            " 0.60191804 0.6003558  0.59881479 0.59729451 0.59579462 0.59431452\n",
            " 0.59285414 0.59141272 0.58999014 0.58858597 0.58719987 0.58583134\n",
            " 0.58448035 0.58314621 0.58182871 0.58052772 0.57924265 0.57797337\n",
            " 0.57671946 0.5754807  0.57425684 0.5730474  0.57185233 0.5706715\n",
            " 0.5695042  0.56835067 0.56721032 0.56608307 0.56496876 0.56386703\n",
            " 0.5627777  0.5617007  0.56063563 0.55958241 0.55854076 0.55751044\n",
            " 0.55649132 0.5554834  0.5544861  0.55349958 0.55252355 0.55155778\n",
            " 0.55060214 0.54965663 0.5487209  0.54779488 0.5468784  0.54597133\n",
            " 0.54507351 0.54418474 0.54330498 0.54243398 0.54157174 0.54071796\n",
            " 0.53987271 0.53903568 0.53820688 0.53738612]\n",
            "21 day output [[0.5365734]]\n",
            "22 day input [0.69178766 0.68869537 0.68568343 0.68275219 0.67989767 0.67711347\n",
            " 0.67439127 0.67172337 0.66910237 0.66652274 0.66398072 0.66147423\n",
            " 0.65900236 0.65656579 0.65416527 0.65180212 0.64947718 0.64719093\n",
            " 0.64494354 0.64273447 0.64056307 0.63842803 0.63632828 0.63426214\n",
            " 0.63222849 0.63022619 0.62825406 0.62631142 0.62439758 0.62251198\n",
            " 0.62065405 0.61882359 0.61701995 0.61524284 0.61349171 0.61176616\n",
            " 0.61006564 0.6083895  0.6067372  0.60510832 0.60350209 0.60191804\n",
            " 0.6003558  0.59881479 0.59729451 0.59579462 0.59431452 0.59285414\n",
            " 0.59141272 0.58999014 0.58858597 0.58719987 0.58583134 0.58448035\n",
            " 0.58314621 0.58182871 0.58052772 0.57924265 0.57797337 0.57671946\n",
            " 0.5754807  0.57425684 0.5730474  0.57185233 0.5706715  0.5695042\n",
            " 0.56835067 0.56721032 0.56608307 0.56496876 0.56386703 0.5627777\n",
            " 0.5617007  0.56063563 0.55958241 0.55854076 0.55751044 0.55649132\n",
            " 0.5554834  0.5544861  0.55349958 0.55252355 0.55155778 0.55060214\n",
            " 0.54965663 0.5487209  0.54779488 0.5468784  0.54597133 0.54507351\n",
            " 0.54418474 0.54330498 0.54243398 0.54157174 0.54071796 0.53987271\n",
            " 0.53903568 0.53820688 0.53738612 0.53657341]\n",
            "22 day output [[0.5357685]]\n",
            "23 day input [0.68869537 0.68568343 0.68275219 0.67989767 0.67711347 0.67439127\n",
            " 0.67172337 0.66910237 0.66652274 0.66398072 0.66147423 0.65900236\n",
            " 0.65656579 0.65416527 0.65180212 0.64947718 0.64719093 0.64494354\n",
            " 0.64273447 0.64056307 0.63842803 0.63632828 0.63426214 0.63222849\n",
            " 0.63022619 0.62825406 0.62631142 0.62439758 0.62251198 0.62065405\n",
            " 0.61882359 0.61701995 0.61524284 0.61349171 0.61176616 0.61006564\n",
            " 0.6083895  0.6067372  0.60510832 0.60350209 0.60191804 0.6003558\n",
            " 0.59881479 0.59729451 0.59579462 0.59431452 0.59285414 0.59141272\n",
            " 0.58999014 0.58858597 0.58719987 0.58583134 0.58448035 0.58314621\n",
            " 0.58182871 0.58052772 0.57924265 0.57797337 0.57671946 0.5754807\n",
            " 0.57425684 0.5730474  0.57185233 0.5706715  0.5695042  0.56835067\n",
            " 0.56721032 0.56608307 0.56496876 0.56386703 0.5627777  0.5617007\n",
            " 0.56063563 0.55958241 0.55854076 0.55751044 0.55649132 0.5554834\n",
            " 0.5544861  0.55349958 0.55252355 0.55155778 0.55060214 0.54965663\n",
            " 0.5487209  0.54779488 0.5468784  0.54597133 0.54507351 0.54418474\n",
            " 0.54330498 0.54243398 0.54157174 0.54071796 0.53987271 0.53903568\n",
            " 0.53820688 0.53738612 0.53657341 0.53576851]\n",
            "23 day output [[0.53497124]]\n",
            "24 day input [0.68568343 0.68275219 0.67989767 0.67711347 0.67439127 0.67172337\n",
            " 0.66910237 0.66652274 0.66398072 0.66147423 0.65900236 0.65656579\n",
            " 0.65416527 0.65180212 0.64947718 0.64719093 0.64494354 0.64273447\n",
            " 0.64056307 0.63842803 0.63632828 0.63426214 0.63222849 0.63022619\n",
            " 0.62825406 0.62631142 0.62439758 0.62251198 0.62065405 0.61882359\n",
            " 0.61701995 0.61524284 0.61349171 0.61176616 0.61006564 0.6083895\n",
            " 0.6067372  0.60510832 0.60350209 0.60191804 0.6003558  0.59881479\n",
            " 0.59729451 0.59579462 0.59431452 0.59285414 0.59141272 0.58999014\n",
            " 0.58858597 0.58719987 0.58583134 0.58448035 0.58314621 0.58182871\n",
            " 0.58052772 0.57924265 0.57797337 0.57671946 0.5754807  0.57425684\n",
            " 0.5730474  0.57185233 0.5706715  0.5695042  0.56835067 0.56721032\n",
            " 0.56608307 0.56496876 0.56386703 0.5627777  0.5617007  0.56063563\n",
            " 0.55958241 0.55854076 0.55751044 0.55649132 0.5554834  0.5544861\n",
            " 0.55349958 0.55252355 0.55155778 0.55060214 0.54965663 0.5487209\n",
            " 0.54779488 0.5468784  0.54597133 0.54507351 0.54418474 0.54330498\n",
            " 0.54243398 0.54157174 0.54071796 0.53987271 0.53903568 0.53820688\n",
            " 0.53738612 0.53657341 0.53576851 0.53497124]\n",
            "24 day output [[0.53418165]]\n",
            "25 day input [0.68275219 0.67989767 0.67711347 0.67439127 0.67172337 0.66910237\n",
            " 0.66652274 0.66398072 0.66147423 0.65900236 0.65656579 0.65416527\n",
            " 0.65180212 0.64947718 0.64719093 0.64494354 0.64273447 0.64056307\n",
            " 0.63842803 0.63632828 0.63426214 0.63222849 0.63022619 0.62825406\n",
            " 0.62631142 0.62439758 0.62251198 0.62065405 0.61882359 0.61701995\n",
            " 0.61524284 0.61349171 0.61176616 0.61006564 0.6083895  0.6067372\n",
            " 0.60510832 0.60350209 0.60191804 0.6003558  0.59881479 0.59729451\n",
            " 0.59579462 0.59431452 0.59285414 0.59141272 0.58999014 0.58858597\n",
            " 0.58719987 0.58583134 0.58448035 0.58314621 0.58182871 0.58052772\n",
            " 0.57924265 0.57797337 0.57671946 0.5754807  0.57425684 0.5730474\n",
            " 0.57185233 0.5706715  0.5695042  0.56835067 0.56721032 0.56608307\n",
            " 0.56496876 0.56386703 0.5627777  0.5617007  0.56063563 0.55958241\n",
            " 0.55854076 0.55751044 0.55649132 0.5554834  0.5544861  0.55349958\n",
            " 0.55252355 0.55155778 0.55060214 0.54965663 0.5487209  0.54779488\n",
            " 0.5468784  0.54597133 0.54507351 0.54418474 0.54330498 0.54243398\n",
            " 0.54157174 0.54071796 0.53987271 0.53903568 0.53820688 0.53738612\n",
            " 0.53657341 0.53576851 0.53497124 0.53418165]\n",
            "25 day output [[0.5333995]]\n",
            "26 day input [0.67989767 0.67711347 0.67439127 0.67172337 0.66910237 0.66652274\n",
            " 0.66398072 0.66147423 0.65900236 0.65656579 0.65416527 0.65180212\n",
            " 0.64947718 0.64719093 0.64494354 0.64273447 0.64056307 0.63842803\n",
            " 0.63632828 0.63426214 0.63222849 0.63022619 0.62825406 0.62631142\n",
            " 0.62439758 0.62251198 0.62065405 0.61882359 0.61701995 0.61524284\n",
            " 0.61349171 0.61176616 0.61006564 0.6083895  0.6067372  0.60510832\n",
            " 0.60350209 0.60191804 0.6003558  0.59881479 0.59729451 0.59579462\n",
            " 0.59431452 0.59285414 0.59141272 0.58999014 0.58858597 0.58719987\n",
            " 0.58583134 0.58448035 0.58314621 0.58182871 0.58052772 0.57924265\n",
            " 0.57797337 0.57671946 0.5754807  0.57425684 0.5730474  0.57185233\n",
            " 0.5706715  0.5695042  0.56835067 0.56721032 0.56608307 0.56496876\n",
            " 0.56386703 0.5627777  0.5617007  0.56063563 0.55958241 0.55854076\n",
            " 0.55751044 0.55649132 0.5554834  0.5544861  0.55349958 0.55252355\n",
            " 0.55155778 0.55060214 0.54965663 0.5487209  0.54779488 0.5468784\n",
            " 0.54597133 0.54507351 0.54418474 0.54330498 0.54243398 0.54157174\n",
            " 0.54071796 0.53987271 0.53903568 0.53820688 0.53738612 0.53657341\n",
            " 0.53576851 0.53497124 0.53418165 0.53339952]\n",
            "26 day output [[0.53262484]]\n",
            "27 day input [0.67711347 0.67439127 0.67172337 0.66910237 0.66652274 0.66398072\n",
            " 0.66147423 0.65900236 0.65656579 0.65416527 0.65180212 0.64947718\n",
            " 0.64719093 0.64494354 0.64273447 0.64056307 0.63842803 0.63632828\n",
            " 0.63426214 0.63222849 0.63022619 0.62825406 0.62631142 0.62439758\n",
            " 0.62251198 0.62065405 0.61882359 0.61701995 0.61524284 0.61349171\n",
            " 0.61176616 0.61006564 0.6083895  0.6067372  0.60510832 0.60350209\n",
            " 0.60191804 0.6003558  0.59881479 0.59729451 0.59579462 0.59431452\n",
            " 0.59285414 0.59141272 0.58999014 0.58858597 0.58719987 0.58583134\n",
            " 0.58448035 0.58314621 0.58182871 0.58052772 0.57924265 0.57797337\n",
            " 0.57671946 0.5754807  0.57425684 0.5730474  0.57185233 0.5706715\n",
            " 0.5695042  0.56835067 0.56721032 0.56608307 0.56496876 0.56386703\n",
            " 0.5627777  0.5617007  0.56063563 0.55958241 0.55854076 0.55751044\n",
            " 0.55649132 0.5554834  0.5544861  0.55349958 0.55252355 0.55155778\n",
            " 0.55060214 0.54965663 0.5487209  0.54779488 0.5468784  0.54597133\n",
            " 0.54507351 0.54418474 0.54330498 0.54243398 0.54157174 0.54071796\n",
            " 0.53987271 0.53903568 0.53820688 0.53738612 0.53657341 0.53576851\n",
            " 0.53497124 0.53418165 0.53339952 0.53262484]\n",
            "27 day output [[0.5318573]]\n",
            "28 day input [0.67439127 0.67172337 0.66910237 0.66652274 0.66398072 0.66147423\n",
            " 0.65900236 0.65656579 0.65416527 0.65180212 0.64947718 0.64719093\n",
            " 0.64494354 0.64273447 0.64056307 0.63842803 0.63632828 0.63426214\n",
            " 0.63222849 0.63022619 0.62825406 0.62631142 0.62439758 0.62251198\n",
            " 0.62065405 0.61882359 0.61701995 0.61524284 0.61349171 0.61176616\n",
            " 0.61006564 0.6083895  0.6067372  0.60510832 0.60350209 0.60191804\n",
            " 0.6003558  0.59881479 0.59729451 0.59579462 0.59431452 0.59285414\n",
            " 0.59141272 0.58999014 0.58858597 0.58719987 0.58583134 0.58448035\n",
            " 0.58314621 0.58182871 0.58052772 0.57924265 0.57797337 0.57671946\n",
            " 0.5754807  0.57425684 0.5730474  0.57185233 0.5706715  0.5695042\n",
            " 0.56835067 0.56721032 0.56608307 0.56496876 0.56386703 0.5627777\n",
            " 0.5617007  0.56063563 0.55958241 0.55854076 0.55751044 0.55649132\n",
            " 0.5554834  0.5544861  0.55349958 0.55252355 0.55155778 0.55060214\n",
            " 0.54965663 0.5487209  0.54779488 0.5468784  0.54597133 0.54507351\n",
            " 0.54418474 0.54330498 0.54243398 0.54157174 0.54071796 0.53987271\n",
            " 0.53903568 0.53820688 0.53738612 0.53657341 0.53576851 0.53497124\n",
            " 0.53418165 0.53339952 0.53262484 0.53185731]\n",
            "28 day output [[0.5310971]]\n",
            "29 day input [0.67172337 0.66910237 0.66652274 0.66398072 0.66147423 0.65900236\n",
            " 0.65656579 0.65416527 0.65180212 0.64947718 0.64719093 0.64494354\n",
            " 0.64273447 0.64056307 0.63842803 0.63632828 0.63426214 0.63222849\n",
            " 0.63022619 0.62825406 0.62631142 0.62439758 0.62251198 0.62065405\n",
            " 0.61882359 0.61701995 0.61524284 0.61349171 0.61176616 0.61006564\n",
            " 0.6083895  0.6067372  0.60510832 0.60350209 0.60191804 0.6003558\n",
            " 0.59881479 0.59729451 0.59579462 0.59431452 0.59285414 0.59141272\n",
            " 0.58999014 0.58858597 0.58719987 0.58583134 0.58448035 0.58314621\n",
            " 0.58182871 0.58052772 0.57924265 0.57797337 0.57671946 0.5754807\n",
            " 0.57425684 0.5730474  0.57185233 0.5706715  0.5695042  0.56835067\n",
            " 0.56721032 0.56608307 0.56496876 0.56386703 0.5627777  0.5617007\n",
            " 0.56063563 0.55958241 0.55854076 0.55751044 0.55649132 0.5554834\n",
            " 0.5544861  0.55349958 0.55252355 0.55155778 0.55060214 0.54965663\n",
            " 0.5487209  0.54779488 0.5468784  0.54597133 0.54507351 0.54418474\n",
            " 0.54330498 0.54243398 0.54157174 0.54071796 0.53987271 0.53903568\n",
            " 0.53820688 0.53738612 0.53657341 0.53576851 0.53497124 0.53418165\n",
            " 0.53339952 0.53262484 0.53185731 0.53109711]\n",
            "29 day output [[0.5303439]]\n",
            "[[0.5554834008216858], [0.554486095905304], [0.5534995794296265], [0.5525235533714294], [0.5515577793121338], [0.55060213804245], [0.5496566295623779], [0.5487208962440491], [0.5477948784828186], [0.5468783974647522], [0.5459713339805603], [0.5450735092163086], [0.5441847443580627], [0.543304979801178], [0.5424339771270752], [0.5415717363357544], [0.5407179594039917], [0.5398727059364319], [0.5390356779098511], [0.5382068753242493], [0.5373861193656921], [0.5365734100341797], [0.5357685089111328], [0.5349712371826172], [0.5341816544532776], [0.5333995223045349], [0.5326248407363892], [0.5318573117256165], [0.5310971140861511], [0.5303438901901245]]\n"
          ],
          "name": "stdout"
        }
      ]
    },
    {
      "cell_type": "code",
      "metadata": {
        "id": "ud-pf_qDx-jy",
        "colab_type": "code",
        "colab": {}
      },
      "source": [
        "day_new=np.arange(1,101)\n",
        "day_pred=np.arange(101,131)\n"
      ],
      "execution_count": 64,
      "outputs": []
    },
    {
      "cell_type": "code",
      "metadata": {
        "id": "0piv07sRyMwW",
        "colab_type": "code",
        "colab": {}
      },
      "source": [
        "import matplotlib.pyplot as plt"
      ],
      "execution_count": 65,
      "outputs": []
    },
    {
      "cell_type": "code",
      "metadata": {
        "id": "iLy8Kfa3ySci",
        "colab_type": "code",
        "colab": {
          "base_uri": "https://localhost:8080/",
          "height": 34
        },
        "outputId": "a4aa10b2-c80a-43ef-fbc0-5a8ed23c8aaa"
      },
      "source": [
        "len(df1)"
      ],
      "execution_count": 66,
      "outputs": [
        {
          "output_type": "execute_result",
          "data": {
            "text/plain": [
              "1257"
            ]
          },
          "metadata": {
            "tags": []
          },
          "execution_count": 66
        }
      ]
    },
    {
      "cell_type": "code",
      "metadata": {
        "id": "mz1jT5g2yYrg",
        "colab_type": "code",
        "colab": {
          "base_uri": "https://localhost:8080/",
          "height": 284
        },
        "outputId": "5afb5453-b463-412c-9391-b41eaf29c332"
      },
      "source": [
        "plt.plot(day_new,scaler.inverse_transform(df1[1157:]))\n",
        "plt.plot(day_pred,scaler.inverse_transform(lst_output))"
      ],
      "execution_count": 67,
      "outputs": [
        {
          "output_type": "execute_result",
          "data": {
            "text/plain": [
              "[<matplotlib.lines.Line2D at 0x7fbfa5f3b978>]"
            ]
          },
          "metadata": {
            "tags": []
          },
          "execution_count": 67
        },
        {
          "output_type": "display_data",
          "data": {
            "image/png": "[encoded data removed]",
            "text/plain": [
              "<Figure size 432x288 with 1 Axes>"
            ]
          },
          "metadata": {
            "tags": [],
            "needs_background": "light"
          }
        }
      ]
    },
    {
      "cell_type": "code",
      "metadata": {
        "id": "f6N2tSTAyeRa",
        "colab_type": "code",
        "colab": {
          "base_uri": "https://localhost:8080/",
          "height": 282
        },
        "outputId": "fd4de25f-4e17-4eef-c5a1-a750435cff8c"
      },
      "source": [
        "df3=df1.tolist()\n",
        "df3.extend(lst_output)\n",
        "plt.plot(df3[1200:])"
      ],
      "execution_count": 56,
      "outputs": [
        {
          "output_type": "execute_result",
          "data": {
            "text/plain": [
              "[<matplotlib.lines.Line2D at 0x7fbfa6222f28>]"
            ]
          },
          "metadata": {
            "tags": []
          },
          "execution_count": 56
        },
        {
          "output_type": "display_data",
          "data": {
            "image/png": "[encoded data removed]",
            "text/plain": [
              "<Figure size 432x288 with 1 Axes>"
            ]
          },
          "metadata": {
            "tags": [],
            "needs_background": "light"
          }
        }
      ]
    },
    {
      "cell_type": "code",
      "metadata": {
        "id": "Rw9hQSKQy6yv",
        "colab_type": "code",
        "colab": {}
      },
      "source": [
        "df3=scaler.inverse_transform(df3).tolist()"
      ],
      "execution_count": 68,
      "outputs": []
    },
    {
      "cell_type": "code",
      "metadata": {
        "id": "ex1U7WuW2kfk",
        "colab_type": "code",
        "colab": {
          "base_uri": "https://localhost:8080/",
          "height": 282
        },
        "outputId": "41d41a1a-eae1-452f-b35f-cc465d2c42ec"
      },
      "source": [
        "plt.plot(df3)\n"
      ],
      "execution_count": 69,
      "outputs": [
        {
          "output_type": "execute_result",
          "data": {
            "text/plain": [
              "[<matplotlib.lines.Line2D at 0x7fbfa5ebd470>]"
            ]
          },
          "metadata": {
            "tags": []
          },
          "execution_count": 69
        },
        {
          "output_type": "display_data",
          "data": {
            "image/png": "[encoded data removed]",
            "text/plain": [
              "<Figure size 432x288 with 1 Axes>"
            ]
          },
          "metadata": {
            "tags": [],
            "needs_background": "light"
          }
        }
      ]
    },
    {
      "cell_type": "code",
      "metadata": {
        "id": "ml_ROkqK2uVC",
        "colab_type": "code",
        "colab": {}
      },
      "source": [
        ""
      ],
      "execution_count": null,
      "outputs": []
    }
  ]
}